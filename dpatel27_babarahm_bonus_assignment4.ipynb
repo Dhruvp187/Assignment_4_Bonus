{
  "nbformat": 4,
  "nbformat_minor": 0,
  "metadata": {
    "colab": {
      "provenance": [],
      "include_colab_link": true
    },
    "kernelspec": {
      "name": "python3",
      "display_name": "Python 3"
    },
    "language_info": {
      "name": "python"
    }
  },
  "cells": [
    {
      "cell_type": "markdown",
      "metadata": {
        "id": "view-in-github",
        "colab_type": "text"
      },
      "source": [
        "<a href=\"https://colab.research.google.com/github/Dhruvp187/Assignment_4_Bonus/blob/main/dpatel27_babarahm_bonus_assignment4.ipynb\" target=\"_parent\"><img src=\"https://colab.research.google.com/assets/colab-badge.svg\" alt=\"Open In Colab\"/></a>"
      ]
    },
    {
      "cell_type": "code",
      "execution_count": null,
      "metadata": {
        "id": "l2J3dYGYLvOs"
      },
      "outputs": [],
      "source": [
        "#I certify that the code and data in this assignment were generated independently, using only the tools and resources defined in the course and that I did not receive any external help, coaching or contributions during the production of this work."
      ]
    },
    {
      "cell_type": "code",
      "source": [
        "!pip install gym"
      ],
      "metadata": {
        "colab": {
          "base_uri": "https://localhost:8080/"
        },
        "id": "56N0VY1qME4D",
        "outputId": "59d70333-8c4d-4108-c741-a98b9ce2482b"
      },
      "execution_count": null,
      "outputs": [
        {
          "output_type": "stream",
          "name": "stdout",
          "text": [
            "Requirement already satisfied: gym in /usr/local/lib/python3.7/dist-packages (0.17.3)\n",
            "Requirement already satisfied: scipy in /usr/local/lib/python3.7/dist-packages (from gym) (1.4.1)\n",
            "Requirement already satisfied: pyglet<=1.5.0,>=1.4.0 in /usr/local/lib/python3.7/dist-packages (from gym) (1.5.0)\n",
            "Requirement already satisfied: numpy>=1.10.4 in /usr/local/lib/python3.7/dist-packages (from gym) (1.21.6)\n",
            "Requirement already satisfied: cloudpickle<1.7.0,>=1.2.0 in /usr/local/lib/python3.7/dist-packages (from gym) (1.3.0)\n",
            "Requirement already satisfied: future in /usr/local/lib/python3.7/dist-packages (from pyglet<=1.5.0,>=1.4.0->gym) (0.16.0)\n"
          ]
        }
      ]
    },
    {
      "cell_type": "code",
      "source": [
        "import numpy as np\n",
        "import matplotlib.pyplot as plt\n",
        "import gym\n",
        "from gym import spaces\n",
        "import random\n",
        "from IPython.display import clear_output\n",
        "from IPython.core.pylabtools import figsize"
      ],
      "metadata": {
        "id": "WmBQmWf3MGJq"
      },
      "execution_count": null,
      "outputs": []
    },
    {
      "cell_type": "code",
      "source": [
        "from google.colab import widgets\n",
        "import time\n",
        "\n",
        "output_grid = widgets.Grid(1, 1)\n",
        "for _ in range(1):\n",
        "  grid = np.zeros((4, 4))\n",
        "  grid[np.random.randint(4), np.random.randint(4)] = 1\n",
        "  with output_grid.output_to(0, 0):\n",
        "    output_grid.clear_cell()\n",
        "    plt.imshow(grid)\n",
        "  time.sleep(1)"
      ],
      "metadata": {
        "colab": {
          "base_uri": "https://localhost:8080/",
          "height": 273
        },
        "id": "9VEoRfREMHe0",
        "outputId": "2086acbe-c539-4099-b676-4de07f09a683"
      },
      "execution_count": null,
      "outputs": [
        {
          "output_type": "display_data",
          "data": {
            "text/plain": [
              "<IPython.core.display.HTML object>"
            ],
            "text/html": [
              "<style>\n",
              "       table#id2, #id2 > tbody > tr > th, #id2 > tbody > tr > td {\n",
              "         border: 1px solid lightgray;\n",
              "         border-collapse:collapse;\n",
              "         \n",
              "        }</style>"
            ]
          },
          "metadata": {}
        },
        {
          "output_type": "display_data",
          "data": {
            "text/plain": [
              "<IPython.core.display.HTML object>"
            ],
            "text/html": [
              "<table id=id2><tr><td id=id2-0-0></td></tr></table>"
            ]
          },
          "metadata": {}
        },
        {
          "output_type": "display_data",
          "data": {
            "text/plain": [
              "<IPython.core.display.Javascript object>"
            ],
            "application/javascript": [
              "window[\"dd6f2b10-cf2d-11ec-aa94-0242ac1c0002\"] = google.colab.output.getActiveOutputArea();\n",
              "//# sourceURL=js_d88858048e"
            ]
          },
          "metadata": {}
        },
        {
          "output_type": "display_data",
          "data": {
            "text/plain": [
              "<IPython.core.display.Javascript object>"
            ],
            "application/javascript": [
              "window[\"dd6f938e-cf2d-11ec-aa94-0242ac1c0002\"] = document.querySelector(\"#id2-0-0\");\n",
              "//# sourceURL=js_8992938457"
            ]
          },
          "metadata": {}
        },
        {
          "output_type": "display_data",
          "data": {
            "text/plain": [
              "<IPython.core.display.Javascript object>"
            ],
            "application/javascript": [
              "window[\"dd6fee10-cf2d-11ec-aa94-0242ac1c0002\"] = google.colab.output.setActiveOutputArea(window[\"dd6f938e-cf2d-11ec-aa94-0242ac1c0002\"]);\n",
              "//# sourceURL=js_2716113009"
            ]
          },
          "metadata": {}
        },
        {
          "output_type": "display_data",
          "data": {
            "text/plain": [
              "<Figure size 432x288 with 1 Axes>"
            ],
            "image/png": "[encoded data removed]"
          },
          "metadata": {
            "needs_background": "light"
          }
        },
        {
          "output_type": "display_data",
          "data": {
            "text/plain": [
              "<IPython.core.display.Javascript object>"
            ],
            "application/javascript": [
              "window[\"dd9545a2-cf2d-11ec-aa94-0242ac1c0002\"] = google.colab.output.setActiveOutputArea(window[\"dd6f2b10-cf2d-11ec-aa94-0242ac1c0002\"]);\n",
              "//# sourceURL=js_d9d4225207"
            ]
          },
          "metadata": {}
        }
      ]
    },
    {
      "cell_type": "code",
      "source": [
        "class GridEnvironment(gym.Env):\n",
        "  metadata = { 'render.modes': [] }\n",
        "\n",
        "  def __init__(self):\n",
        "      self.observation_space = spaces.Discrete(16)\n",
        "      self.action_space = spaces.Discrete(4)\n",
        "      self.max_timesteps = 15\n",
        "      self.reward1_done = False\n",
        "      self.reward2_done = False\n",
        "\n",
        "  def reset(self):\n",
        "      self.timestep = 0\n",
        "      self.agent_pos = [0, 0]\n",
        "      self.goal_pos = [3, 3]\n",
        "      self.reward1 = [0, 3]\n",
        "      self.negative_reward = [2, 2]\n",
        "      self.negative_reward2 = [0,2]\n",
        "      self.reward2 = [2,1]\n",
        "      self.state = np.zeros((4,4))\n",
        "      self.state[tuple(self.agent_pos)] = 0.9\n",
        "      self.state[tuple(self.goal_pos)] = 0.8\n",
        "      self.state[tuple(self.reward1)] = 0.6\n",
        "      self.state[tuple(self.reward2)] = 0.5\n",
        "      self.state[tuple(self.negative_reward)] = 0.3\n",
        "      self.state[tuple(self.negative_reward2)] = 0.2\n",
        "      observation = self.state.flatten()\n",
        "      return self.agent_pos\n",
        "\n",
        "  def step(self, action):\n",
        "      if action == 0:\n",
        "        self.agent_pos[0] += 1\n",
        "      if action == 1:\n",
        "        self.agent_pos[0] -= 1\n",
        "      if action == 2:\n",
        "        self.agent_pos[1] += 1\n",
        "      if action == 3:\n",
        "        self.agent_pos[1] -= 1\n",
        "\n",
        "      self.agent_pos = np.clip(self.agent_pos, 0, 3)\n",
        "      self.state = np.zeros((4,4))\n",
        "      self.state[tuple(self.agent_pos)] = 1\n",
        "      self.state[tuple(self.goal_pos)] = 0.5\n",
        "      observation = self.state.flatten()\n",
        "\n",
        "      reward = 0\n",
        "\n",
        "      if (self.agent_pos == self.reward1).all():\n",
        "        if(not self.reward1_done):\n",
        "          reward = 5\n",
        "          self.reward1_done = True\n",
        "      if (self.agent_pos == self.negative_reward).all():\n",
        "        reward = -10\n",
        "      if (self.agent_pos == self.negative_reward2).all():\n",
        "        reward = -10\n",
        "      if (self.agent_pos == self.reward2).all():\n",
        "        reward =15\n",
        "        # if(not self.reward2_done):\n",
        "        #   reward = 15\n",
        "        #   self.reward2_done = True\n",
        "      if (self.agent_pos == self.goal_pos).all():\n",
        "        reward = 25\n",
        "\n",
        "      self.timestep += 1\n",
        "      done = True if ((self.timestep >= self.max_timesteps) or (self.agent_pos == self.goal_pos).all()) else False\n",
        "      info = {}\n",
        "\n",
        "      return self.agent_pos, reward, done, info\n",
        "\n",
        "  def render(self):\n",
        "      self.state[tuple(self.reward1)] = 0.6\n",
        "      self.state[tuple(self.reward2)] = 0.5\n",
        "      self.state[tuple(self.negative_reward)] = 0.3\n",
        "      self.state[tuple(self.negative_reward2)] = 0.2\n",
        "\n",
        "      self.state[tuple(self.goal_pos)] = 0.8\n",
        "      self.state[tuple(self.agent_pos)] = 0.9\n",
        "      plt.imshow(self.state)\n",
        "      plt.show()"
      ],
      "metadata": {
        "id": "lLLk6VdNMJAX"
      },
      "execution_count": null,
      "outputs": []
    },
    {
      "cell_type": "code",
      "source": [
        "env = GridEnvironment()\n",
        "obs = env.reset()\n",
        "env.render()"
      ],
      "metadata": {
        "colab": {
          "base_uri": "https://localhost:8080/",
          "height": 269
        },
        "id": "3fdBGs74MLAn",
        "outputId": "2cf75393-8131-409f-e102-724f528b9150"
      },
      "execution_count": null,
      "outputs": [
        {
          "output_type": "display_data",
          "data": {
            "text/plain": [
              "<Figure size 432x288 with 1 Axes>"
            ],
            "image/png": "[encoded data removed]"
          },
          "metadata": {
            "needs_background": "light"
          }
        }
      ]
    },
    {
      "cell_type": "markdown",
      "source": [
        "#Double Q Learning"
      ],
      "metadata": {
        "id": "AhH0dy5LMQJj"
      }
    },
    {
      "cell_type": "code",
      "source": [
        "env = GridEnvironment()\n",
        "epsilon = 0.9\n",
        "learning_rate = 0.001\n",
        "gamma = 0.8\n",
        "epsilons = []\n",
        "Qrewards = []\n",
        "Qtable = np.zeros((4,4,env.action_space.n))\n",
        "\n",
        "Qtable_A = np.zeros((4,4,env.action_space.n))\n",
        "Qtable_B = np.zeros((4,4,env.action_space.n))\n",
        "observation = env.observation_space"
      ],
      "metadata": {
        "id": "Uydo00jMMMh3"
      },
      "execution_count": null,
      "outputs": []
    },
    {
      "cell_type": "code",
      "source": [
        "episodes = 500\n",
        "output_grid = widgets.Grid(1, 1)\n",
        "\n",
        "for episode in range(episodes):\n",
        "  obs = env.reset()\n",
        "  epsilons.append(epsilon)\n",
        "  done = False\n",
        "  current_reward = 0\n",
        "  while done == False:\n",
        "    if(episode > 495):\n",
        "      with output_grid.output_to(0, 0):\n",
        "        output_grid.clear_cell()\n",
        "        env.render()\n",
        "      time.sleep(0.1)\n",
        "\n",
        "    if np.random.uniform(0,1) < epsilon:\n",
        "     action = np.random.choice(env.action_space.n)\n",
        "    else:\n",
        "     action = np.argmax(Qtable[obs[0],obs[1]])\n",
        "\n",
        "    state = np.copy(obs)\n",
        "    obs, reward, done, info = env.step(action)\n",
        "    current_reward += reward\n",
        "    new_state = np.copy(obs)\n",
        "\n",
        "    prev = Qtable[state[0]][state[1]][action]\n",
        "    prev_A = Qtable_A[state[0]][state[1]][action]\n",
        "    prev_B = Qtable_B[state[0]][state[1]][action]\n",
        "    if np.random.rand() < 0.5:\n",
        "      td = reward + (gamma*(np.max(Qtable_B[new_state[0],new_state[1]]))) - prev_A\n",
        "    else:\n",
        "      td = reward + (gamma*(np.max(Qtable_A[new_state[0],new_state[1]]))) - prev_B\n",
        "    new = prev + learning_rate*td\n",
        "    Qtable[state[0]][state[1]][action] = new\n",
        "\n",
        "  Qrewards.append(current_reward)\n",
        "  epsilon = max(0.1,epsilon * 0.995)"
      ],
      "metadata": {
        "colab": {
          "base_uri": "https://localhost:8080/",
          "height": 273
        },
        "id": "kL95rK_4MUUR",
        "outputId": "169a0e77-c076-4e73-d8ef-3555249caa8a"
      },
      "execution_count": null,
      "outputs": [
        {
          "output_type": "display_data",
          "data": {
            "text/plain": [
              "<IPython.core.display.HTML object>"
            ],
            "text/html": [
              "<style>\n",
              "       table#id4, #id4 > tbody > tr > th, #id4 > tbody > tr > td {\n",
              "         border: 1px solid lightgray;\n",
              "         border-collapse:collapse;\n",
              "         \n",
              "        }</style>"
            ]
          },
          "metadata": {}
        },
        {
          "output_type": "display_data",
          "data": {
            "text/plain": [
              "<IPython.core.display.HTML object>"
            ],
            "text/html": [
              "<table id=id4><tr><td id=id4-0-0></td></tr></table>"
            ]
          },
          "metadata": {}
        },
        {
          "output_type": "display_data",
          "data": {
            "text/plain": [
              "<IPython.core.display.Javascript object>"
            ],
            "application/javascript": [
              "window[\"fa328bc0-cf2d-11ec-aa94-0242ac1c0002\"] = google.colab.output.getActiveOutputArea();\n",
              "//# sourceURL=js_8cacd14219"
            ]
          },
          "metadata": {}
        },
        {
          "output_type": "display_data",
          "data": {
            "text/plain": [
              "<IPython.core.display.Javascript object>"
            ],
            "application/javascript": [
              "window[\"fa3301ae-cf2d-11ec-aa94-0242ac1c0002\"] = document.querySelector(\"#id4-0-0\");\n",
              "//# sourceURL=js_af7718eb8f"
            ]
          },
          "metadata": {}
        },
        {
          "output_type": "display_data",
          "data": {
            "text/plain": [
              "<IPython.core.display.Javascript object>"
            ],
            "application/javascript": [
              "window[\"fa335faa-cf2d-11ec-aa94-0242ac1c0002\"] = google.colab.output.setActiveOutputArea(window[\"fa3301ae-cf2d-11ec-aa94-0242ac1c0002\"]);\n",
              "//# sourceURL=js_541a9bc0f0"
            ]
          },
          "metadata": {}
        },
        {
          "output_type": "display_data",
          "data": {
            "text/plain": [
              "<IPython.core.display.Javascript object>"
            ],
            "application/javascript": [
              "window[\"fa4affc0-cf2d-11ec-aa94-0242ac1c0002\"] = google.colab.output.setActiveOutputArea(window[\"fa328bc0-cf2d-11ec-aa94-0242ac1c0002\"]);\n",
              "//# sourceURL=js_31dd4fe7fb"
            ]
          },
          "metadata": {}
        },
        {
          "output_type": "display_data",
          "data": {
            "text/plain": [
              "<IPython.core.display.Javascript object>"
            ],
            "application/javascript": [
              "window[\"fa5c744e-cf2d-11ec-aa94-0242ac1c0002\"] = google.colab.output.getActiveOutputArea();\n",
              "//# sourceURL=js_0fa8d39ced"
            ]
          },
          "metadata": {}
        },
        {
          "output_type": "display_data",
          "data": {
            "text/plain": [
              "<IPython.core.display.Javascript object>"
            ],
            "application/javascript": [
              "window[\"fa5ce97e-cf2d-11ec-aa94-0242ac1c0002\"] = document.querySelector(\"#id4-0-0\");\n",
              "//# sourceURL=js_ac6ab7a400"
            ]
          },
          "metadata": {}
        },
        {
          "output_type": "display_data",
          "data": {
            "text/plain": [
              "<IPython.core.display.Javascript object>"
            ],
            "application/javascript": [
              "window[\"fa5d4c98-cf2d-11ec-aa94-0242ac1c0002\"] = google.colab.output.setActiveOutputArea(window[\"fa5ce97e-cf2d-11ec-aa94-0242ac1c0002\"]);\n",
              "//# sourceURL=js_5580e17978"
            ]
          },
          "metadata": {}
        },
        {
          "output_type": "display_data",
          "data": {
            "text/plain": [
              "<IPython.core.display.Javascript object>"
            ],
            "application/javascript": [
              "window[\"fa73d83c-cf2d-11ec-aa94-0242ac1c0002\"] = google.colab.output.setActiveOutputArea(window[\"fa5c744e-cf2d-11ec-aa94-0242ac1c0002\"]);\n",
              "//# sourceURL=js_5fbeb504a1"
            ]
          },
          "metadata": {}
        },
        {
          "output_type": "display_data",
          "data": {
            "text/plain": [
              "<IPython.core.display.Javascript object>"
            ],
            "application/javascript": [
              "window[\"fa850bf2-cf2d-11ec-aa94-0242ac1c0002\"] = google.colab.output.getActiveOutputArea();\n",
              "//# sourceURL=js_c65daf886e"
            ]
          },
          "metadata": {}
        },
        {
          "output_type": "display_data",
          "data": {
            "text/plain": [
              "<IPython.core.display.Javascript object>"
            ],
            "application/javascript": [
              "window[\"fa856390-cf2d-11ec-aa94-0242ac1c0002\"] = document.querySelector(\"#id4-0-0\");\n",
              "//# sourceURL=js_4f8f63cfb9"
            ]
          },
          "metadata": {}
        },
        {
          "output_type": "display_data",
          "data": {
            "text/plain": [
              "<IPython.core.display.Javascript object>"
            ],
            "application/javascript": [
              "window[\"fa85c90c-cf2d-11ec-aa94-0242ac1c0002\"] = google.colab.output.setActiveOutputArea(window[\"fa856390-cf2d-11ec-aa94-0242ac1c0002\"]);\n",
              "//# sourceURL=js_3c2762d1e4"
            ]
          },
          "metadata": {}
        },
        {
          "output_type": "display_data",
          "data": {
            "text/plain": [
              "<IPython.core.display.Javascript object>"
            ],
            "application/javascript": [
              "window[\"faa457c8-cf2d-11ec-aa94-0242ac1c0002\"] = google.colab.output.setActiveOutputArea(window[\"fa850bf2-cf2d-11ec-aa94-0242ac1c0002\"]);\n",
              "//# sourceURL=js_735ddd31cf"
            ]
          },
          "metadata": {}
        },
        {
          "output_type": "display_data",
          "data": {
            "text/plain": [
              "<IPython.core.display.Javascript object>"
            ],
            "application/javascript": [
              "window[\"fab5ef1a-cf2d-11ec-aa94-0242ac1c0002\"] = google.colab.output.getActiveOutputArea();\n",
              "//# sourceURL=js_e5837194a7"
            ]
          },
          "metadata": {}
        },
        {
          "output_type": "display_data",
          "data": {
            "text/plain": [
              "<IPython.core.display.Javascript object>"
            ],
            "application/javascript": [
              "window[\"fab63484-cf2d-11ec-aa94-0242ac1c0002\"] = document.querySelector(\"#id4-0-0\");\n",
              "//# sourceURL=js_8932419fed"
            ]
          },
          "metadata": {}
        },
        {
          "output_type": "display_data",
          "data": {
            "text/plain": [
              "<IPython.core.display.Javascript object>"
            ],
            "application/javascript": [
              "window[\"fab683bc-cf2d-11ec-aa94-0242ac1c0002\"] = google.colab.output.setActiveOutputArea(window[\"fab63484-cf2d-11ec-aa94-0242ac1c0002\"]);\n",
              "//# sourceURL=js_2f672722fe"
            ]
          },
          "metadata": {}
        },
        {
          "output_type": "display_data",
          "data": {
            "text/plain": [
              "<IPython.core.display.Javascript object>"
            ],
            "application/javascript": [
              "window[\"facc5502-cf2d-11ec-aa94-0242ac1c0002\"] = google.colab.output.setActiveOutputArea(window[\"fab5ef1a-cf2d-11ec-aa94-0242ac1c0002\"]);\n",
              "//# sourceURL=js_b2dcc90fe6"
            ]
          },
          "metadata": {}
        },
        {
          "output_type": "display_data",
          "data": {
            "text/plain": [
              "<IPython.core.display.Javascript object>"
            ],
            "application/javascript": [
              "window[\"fade333a-cf2d-11ec-aa94-0242ac1c0002\"] = google.colab.output.getActiveOutputArea();\n",
              "//# sourceURL=js_3059a503e7"
            ]
          },
          "metadata": {}
        },
        {
          "output_type": "display_data",
          "data": {
            "text/plain": [
              "<IPython.core.display.Javascript object>"
            ],
            "application/javascript": [
              "window[\"fade7aac-cf2d-11ec-aa94-0242ac1c0002\"] = document.querySelector(\"#id4-0-0\");\n",
              "//# sourceURL=js_0c96281b66"
            ]
          },
          "metadata": {}
        },
        {
          "output_type": "display_data",
          "data": {
            "text/plain": [
              "<IPython.core.display.Javascript object>"
            ],
            "application/javascript": [
              "window[\"fadf2010-cf2d-11ec-aa94-0242ac1c0002\"] = google.colab.output.setActiveOutputArea(window[\"fade7aac-cf2d-11ec-aa94-0242ac1c0002\"]);\n",
              "//# sourceURL=js_edb19fc9b2"
            ]
          },
          "metadata": {}
        },
        {
          "output_type": "display_data",
          "data": {
            "text/plain": [
              "<IPython.core.display.Javascript object>"
            ],
            "application/javascript": [
              "window[\"faf637fa-cf2d-11ec-aa94-0242ac1c0002\"] = google.colab.output.setActiveOutputArea(window[\"fade333a-cf2d-11ec-aa94-0242ac1c0002\"]);\n",
              "//# sourceURL=js_02bcf7b278"
            ]
          },
          "metadata": {}
        },
        {
          "output_type": "display_data",
          "data": {
            "text/plain": [
              "<IPython.core.display.Javascript object>"
            ],
            "application/javascript": [
              "window[\"fb077e0c-cf2d-11ec-aa94-0242ac1c0002\"] = google.colab.output.getActiveOutputArea();\n",
              "//# sourceURL=js_c5d7ee940e"
            ]
          },
          "metadata": {}
        },
        {
          "output_type": "display_data",
          "data": {
            "text/plain": [
              "<IPython.core.display.Javascript object>"
            ],
            "application/javascript": [
              "window[\"fb07d8fc-cf2d-11ec-aa94-0242ac1c0002\"] = document.querySelector(\"#id4-0-0\");\n",
              "//# sourceURL=js_0064fa28e6"
            ]
          },
          "metadata": {}
        },
        {
          "output_type": "display_data",
          "data": {
            "text/plain": [
              "<IPython.core.display.Javascript object>"
            ],
            "application/javascript": [
              "window[\"fb082fe6-cf2d-11ec-aa94-0242ac1c0002\"] = google.colab.output.setActiveOutputArea(window[\"fb07d8fc-cf2d-11ec-aa94-0242ac1c0002\"]);\n",
              "//# sourceURL=js_1ea0d82c55"
            ]
          },
          "metadata": {}
        },
        {
          "output_type": "display_data",
          "data": {
            "text/plain": [
              "<IPython.core.display.Javascript object>"
            ],
            "application/javascript": [
              "window[\"fb1ddd46-cf2d-11ec-aa94-0242ac1c0002\"] = google.colab.output.setActiveOutputArea(window[\"fb077e0c-cf2d-11ec-aa94-0242ac1c0002\"]);\n",
              "//# sourceURL=js_cc67a7858b"
            ]
          },
          "metadata": {}
        },
        {
          "output_type": "display_data",
          "data": {
            "text/plain": [
              "<IPython.core.display.Javascript object>"
            ],
            "application/javascript": [
              "window[\"fb2f0b84-cf2d-11ec-aa94-0242ac1c0002\"] = google.colab.output.getActiveOutputArea();\n",
              "//# sourceURL=js_137686aba0"
            ]
          },
          "metadata": {}
        },
        {
          "output_type": "display_data",
          "data": {
            "text/plain": [
              "<IPython.core.display.Javascript object>"
            ],
            "application/javascript": [
              "window[\"fb2f65d4-cf2d-11ec-aa94-0242ac1c0002\"] = document.querySelector(\"#id4-0-0\");\n",
              "//# sourceURL=js_9884c73b06"
            ]
          },
          "metadata": {}
        },
        {
          "output_type": "display_data",
          "data": {
            "text/plain": [
              "<IPython.core.display.Javascript object>"
            ],
            "application/javascript": [
              "window[\"fb2fe202-cf2d-11ec-aa94-0242ac1c0002\"] = google.colab.output.setActiveOutputArea(window[\"fb2f65d4-cf2d-11ec-aa94-0242ac1c0002\"]);\n",
              "//# sourceURL=js_428abb6785"
            ]
          },
          "metadata": {}
        },
        {
          "output_type": "display_data",
          "data": {
            "text/plain": [
              "<IPython.core.display.Javascript object>"
            ],
            "application/javascript": [
              "window[\"fb46235a-cf2d-11ec-aa94-0242ac1c0002\"] = google.colab.output.setActiveOutputArea(window[\"fb2f0b84-cf2d-11ec-aa94-0242ac1c0002\"]);\n",
              "//# sourceURL=js_d275efa00e"
            ]
          },
          "metadata": {}
        },
        {
          "output_type": "display_data",
          "data": {
            "text/plain": [
              "<IPython.core.display.Javascript object>"
            ],
            "application/javascript": [
              "window[\"fb5791ee-cf2d-11ec-aa94-0242ac1c0002\"] = google.colab.output.getActiveOutputArea();\n",
              "//# sourceURL=js_580f50d0fc"
            ]
          },
          "metadata": {}
        },
        {
          "output_type": "display_data",
          "data": {
            "text/plain": [
              "<IPython.core.display.Javascript object>"
            ],
            "application/javascript": [
              "window[\"fb58223a-cf2d-11ec-aa94-0242ac1c0002\"] = document.querySelector(\"#id4-0-0\");\n",
              "//# sourceURL=js_4c5b544477"
            ]
          },
          "metadata": {}
        },
        {
          "output_type": "display_data",
          "data": {
            "text/plain": [
              "<IPython.core.display.Javascript object>"
            ],
            "application/javascript": [
              "window[\"fb58b9fc-cf2d-11ec-aa94-0242ac1c0002\"] = google.colab.output.setActiveOutputArea(window[\"fb58223a-cf2d-11ec-aa94-0242ac1c0002\"]);\n",
              "//# sourceURL=js_69482853d8"
            ]
          },
          "metadata": {}
        },
        {
          "output_type": "display_data",
          "data": {
            "text/plain": [
              "<IPython.core.display.Javascript object>"
            ],
            "application/javascript": [
              "window[\"fb6ebf5e-cf2d-11ec-aa94-0242ac1c0002\"] = google.colab.output.setActiveOutputArea(window[\"fb5791ee-cf2d-11ec-aa94-0242ac1c0002\"]);\n",
              "//# sourceURL=js_972b8dba7c"
            ]
          },
          "metadata": {}
        },
        {
          "output_type": "display_data",
          "data": {
            "text/plain": [
              "<IPython.core.display.Javascript object>"
            ],
            "application/javascript": [
              "window[\"fb802b18-cf2d-11ec-aa94-0242ac1c0002\"] = google.colab.output.getActiveOutputArea();\n",
              "//# sourceURL=js_759f6d5a19"
            ]
          },
          "metadata": {}
        },
        {
          "output_type": "display_data",
          "data": {
            "text/plain": [
              "<IPython.core.display.Javascript object>"
            ],
            "application/javascript": [
              "window[\"fb80c3de-cf2d-11ec-aa94-0242ac1c0002\"] = document.querySelector(\"#id4-0-0\");\n",
              "//# sourceURL=js_9acbfab87e"
            ]
          },
          "metadata": {}
        },
        {
          "output_type": "display_data",
          "data": {
            "text/plain": [
              "<IPython.core.display.Javascript object>"
            ],
            "application/javascript": [
              "window[\"fb813d1e-cf2d-11ec-aa94-0242ac1c0002\"] = google.colab.output.setActiveOutputArea(window[\"fb80c3de-cf2d-11ec-aa94-0242ac1c0002\"]);\n",
              "//# sourceURL=js_57dd9dd3a9"
            ]
          },
          "metadata": {}
        },
        {
          "output_type": "display_data",
          "data": {
            "text/plain": [
              "<IPython.core.display.Javascript object>"
            ],
            "application/javascript": [
              "window[\"fb98413a-cf2d-11ec-aa94-0242ac1c0002\"] = google.colab.output.setActiveOutputArea(window[\"fb802b18-cf2d-11ec-aa94-0242ac1c0002\"]);\n",
              "//# sourceURL=js_1df111b61f"
            ]
          },
          "metadata": {}
        },
        {
          "output_type": "display_data",
          "data": {
            "text/plain": [
              "<IPython.core.display.Javascript object>"
            ],
            "application/javascript": [
              "window[\"fbaacd78-cf2d-11ec-aa94-0242ac1c0002\"] = google.colab.output.getActiveOutputArea();\n",
              "//# sourceURL=js_8824bab267"
            ]
          },
          "metadata": {}
        },
        {
          "output_type": "display_data",
          "data": {
            "text/plain": [
              "<IPython.core.display.Javascript object>"
            ],
            "application/javascript": [
              "window[\"fbab4f78-cf2d-11ec-aa94-0242ac1c0002\"] = document.querySelector(\"#id4-0-0\");\n",
              "//# sourceURL=js_9c35bb839c"
            ]
          },
          "metadata": {}
        },
        {
          "output_type": "display_data",
          "data": {
            "text/plain": [
              "<IPython.core.display.Javascript object>"
            ],
            "application/javascript": [
              "window[\"fbabdb64-cf2d-11ec-aa94-0242ac1c0002\"] = google.colab.output.setActiveOutputArea(window[\"fbab4f78-cf2d-11ec-aa94-0242ac1c0002\"]);\n",
              "//# sourceURL=js_b0a529a29f"
            ]
          },
          "metadata": {}
        },
        {
          "output_type": "display_data",
          "data": {
            "text/plain": [
              "<IPython.core.display.Javascript object>"
            ],
            "application/javascript": [
              "window[\"fbc3b2de-cf2d-11ec-aa94-0242ac1c0002\"] = google.colab.output.setActiveOutputArea(window[\"fbaacd78-cf2d-11ec-aa94-0242ac1c0002\"]);\n",
              "//# sourceURL=js_5109b03d2e"
            ]
          },
          "metadata": {}
        },
        {
          "output_type": "display_data",
          "data": {
            "text/plain": [
              "<IPython.core.display.Javascript object>"
            ],
            "application/javascript": [
              "window[\"fbd49b9e-cf2d-11ec-aa94-0242ac1c0002\"] = google.colab.output.getActiveOutputArea();\n",
              "//# sourceURL=js_2aa016ca97"
            ]
          },
          "metadata": {}
        },
        {
          "output_type": "display_data",
          "data": {
            "text/plain": [
              "<IPython.core.display.Javascript object>"
            ],
            "application/javascript": [
              "window[\"fbd511fa-cf2d-11ec-aa94-0242ac1c0002\"] = document.querySelector(\"#id4-0-0\");\n",
              "//# sourceURL=js_405fb5c35e"
            ]
          },
          "metadata": {}
        },
        {
          "output_type": "display_data",
          "data": {
            "text/plain": [
              "<IPython.core.display.Javascript object>"
            ],
            "application/javascript": [
              "window[\"fbd55c28-cf2d-11ec-aa94-0242ac1c0002\"] = google.colab.output.setActiveOutputArea(window[\"fbd511fa-cf2d-11ec-aa94-0242ac1c0002\"]);\n",
              "//# sourceURL=js_38c1879a4d"
            ]
          },
          "metadata": {}
        },
        {
          "output_type": "display_data",
          "data": {
            "text/plain": [
              "<IPython.core.display.Javascript object>"
            ],
            "application/javascript": [
              "window[\"fbec5b58-cf2d-11ec-aa94-0242ac1c0002\"] = google.colab.output.setActiveOutputArea(window[\"fbd49b9e-cf2d-11ec-aa94-0242ac1c0002\"]);\n",
              "//# sourceURL=js_00d9b43f3d"
            ]
          },
          "metadata": {}
        },
        {
          "output_type": "display_data",
          "data": {
            "text/plain": [
              "<IPython.core.display.Javascript object>"
            ],
            "application/javascript": [
              "window[\"fbfdbdee-cf2d-11ec-aa94-0242ac1c0002\"] = google.colab.output.getActiveOutputArea();\n",
              "//# sourceURL=js_53782c497e"
            ]
          },
          "metadata": {}
        },
        {
          "output_type": "display_data",
          "data": {
            "text/plain": [
              "<IPython.core.display.Javascript object>"
            ],
            "application/javascript": [
              "window[\"fbfe079a-cf2d-11ec-aa94-0242ac1c0002\"] = document.querySelector(\"#id4-0-0\");\n",
              "//# sourceURL=js_e06a32eeb1"
            ]
          },
          "metadata": {}
        },
        {
          "output_type": "display_data",
          "data": {
            "text/plain": [
              "<IPython.core.display.Javascript object>"
            ],
            "application/javascript": [
              "window[\"fbfe4a0c-cf2d-11ec-aa94-0242ac1c0002\"] = google.colab.output.setActiveOutputArea(window[\"fbfe079a-cf2d-11ec-aa94-0242ac1c0002\"]);\n",
              "//# sourceURL=js_0622df3884"
            ]
          },
          "metadata": {}
        },
        {
          "output_type": "display_data",
          "data": {
            "text/plain": [
              "<IPython.core.display.Javascript object>"
            ],
            "application/javascript": [
              "window[\"fc14f02c-cf2d-11ec-aa94-0242ac1c0002\"] = google.colab.output.setActiveOutputArea(window[\"fbfdbdee-cf2d-11ec-aa94-0242ac1c0002\"]);\n",
              "//# sourceURL=js_b37c75af4b"
            ]
          },
          "metadata": {}
        },
        {
          "output_type": "display_data",
          "data": {
            "text/plain": [
              "<IPython.core.display.Javascript object>"
            ],
            "application/javascript": [
              "window[\"fc2613fc-cf2d-11ec-aa94-0242ac1c0002\"] = google.colab.output.getActiveOutputArea();\n",
              "//# sourceURL=js_9a57a45243"
            ]
          },
          "metadata": {}
        },
        {
          "output_type": "display_data",
          "data": {
            "text/plain": [
              "<IPython.core.display.Javascript object>"
            ],
            "application/javascript": [
              "window[\"fc267022-cf2d-11ec-aa94-0242ac1c0002\"] = document.querySelector(\"#id4-0-0\");\n",
              "//# sourceURL=js_0a2bb13f95"
            ]
          },
          "metadata": {}
        },
        {
          "output_type": "display_data",
          "data": {
            "text/plain": [
              "<IPython.core.display.Javascript object>"
            ],
            "application/javascript": [
              "window[\"fc26e1ec-cf2d-11ec-aa94-0242ac1c0002\"] = google.colab.output.setActiveOutputArea(window[\"fc267022-cf2d-11ec-aa94-0242ac1c0002\"]);\n",
              "//# sourceURL=js_32469cc43b"
            ]
          },
          "metadata": {}
        },
        {
          "output_type": "display_data",
          "data": {
            "text/plain": [
              "<IPython.core.display.Javascript object>"
            ],
            "application/javascript": [
              "window[\"fc3f6c80-cf2d-11ec-aa94-0242ac1c0002\"] = google.colab.output.setActiveOutputArea(window[\"fc2613fc-cf2d-11ec-aa94-0242ac1c0002\"]);\n",
              "//# sourceURL=js_e8b9168989"
            ]
          },
          "metadata": {}
        },
        {
          "output_type": "display_data",
          "data": {
            "text/plain": [
              "<IPython.core.display.Javascript object>"
            ],
            "application/javascript": [
              "window[\"fc510e22-cf2d-11ec-aa94-0242ac1c0002\"] = google.colab.output.getActiveOutputArea();\n",
              "//# sourceURL=js_2172255b28"
            ]
          },
          "metadata": {}
        },
        {
          "output_type": "display_data",
          "data": {
            "text/plain": [
              "<IPython.core.display.Javascript object>"
            ],
            "application/javascript": [
              "window[\"fc5189e2-cf2d-11ec-aa94-0242ac1c0002\"] = document.querySelector(\"#id4-0-0\");\n",
              "//# sourceURL=js_88ef71c480"
            ]
          },
          "metadata": {}
        },
        {
          "output_type": "display_data",
          "data": {
            "text/plain": [
              "<IPython.core.display.Javascript object>"
            ],
            "application/javascript": [
              "window[\"fc51f65c-cf2d-11ec-aa94-0242ac1c0002\"] = google.colab.output.setActiveOutputArea(window[\"fc5189e2-cf2d-11ec-aa94-0242ac1c0002\"]);\n",
              "//# sourceURL=js_8e8a8e1051"
            ]
          },
          "metadata": {}
        },
        {
          "output_type": "display_data",
          "data": {
            "text/plain": [
              "<IPython.core.display.Javascript object>"
            ],
            "application/javascript": [
              "window[\"fc719f20-cf2d-11ec-aa94-0242ac1c0002\"] = google.colab.output.setActiveOutputArea(window[\"fc510e22-cf2d-11ec-aa94-0242ac1c0002\"]);\n",
              "//# sourceURL=js_d1001e5ff1"
            ]
          },
          "metadata": {}
        },
        {
          "output_type": "display_data",
          "data": {
            "text/plain": [
              "<IPython.core.display.Javascript object>"
            ],
            "application/javascript": [
              "window[\"fc82fc16-cf2d-11ec-aa94-0242ac1c0002\"] = google.colab.output.getActiveOutputArea();\n",
              "//# sourceURL=js_0dd5045391"
            ]
          },
          "metadata": {}
        },
        {
          "output_type": "display_data",
          "data": {
            "text/plain": [
              "<IPython.core.display.Javascript object>"
            ],
            "application/javascript": [
              "window[\"fc8358dc-cf2d-11ec-aa94-0242ac1c0002\"] = document.querySelector(\"#id4-0-0\");\n",
              "//# sourceURL=js_7b1d9c510e"
            ]
          },
          "metadata": {}
        },
        {
          "output_type": "display_data",
          "data": {
            "text/plain": [
              "<IPython.core.display.Javascript object>"
            ],
            "application/javascript": [
              "window[\"fc83aa80-cf2d-11ec-aa94-0242ac1c0002\"] = google.colab.output.setActiveOutputArea(window[\"fc8358dc-cf2d-11ec-aa94-0242ac1c0002\"]);\n",
              "//# sourceURL=js_e2838c2125"
            ]
          },
          "metadata": {}
        },
        {
          "output_type": "display_data",
          "data": {
            "text/plain": [
              "<IPython.core.display.Javascript object>"
            ],
            "application/javascript": [
              "window[\"fc99dd14-cf2d-11ec-aa94-0242ac1c0002\"] = google.colab.output.setActiveOutputArea(window[\"fc82fc16-cf2d-11ec-aa94-0242ac1c0002\"]);\n",
              "//# sourceURL=js_7e3a951ea6"
            ]
          },
          "metadata": {}
        },
        {
          "output_type": "display_data",
          "data": {
            "text/plain": [
              "<IPython.core.display.Javascript object>"
            ],
            "application/javascript": [
              "window[\"fcacf87c-cf2d-11ec-aa94-0242ac1c0002\"] = google.colab.output.getActiveOutputArea();\n",
              "//# sourceURL=js_98ff749ee1"
            ]
          },
          "metadata": {}
        },
        {
          "output_type": "display_data",
          "data": {
            "text/plain": [
              "<IPython.core.display.Javascript object>"
            ],
            "application/javascript": [
              "window[\"fcada54c-cf2d-11ec-aa94-0242ac1c0002\"] = document.querySelector(\"#id4-0-0\");\n",
              "//# sourceURL=js_07d5cb44de"
            ]
          },
          "metadata": {}
        },
        {
          "output_type": "display_data",
          "data": {
            "text/plain": [
              "<IPython.core.display.Javascript object>"
            ],
            "application/javascript": [
              "window[\"fcae4722-cf2d-11ec-aa94-0242ac1c0002\"] = google.colab.output.setActiveOutputArea(window[\"fcada54c-cf2d-11ec-aa94-0242ac1c0002\"]);\n",
              "//# sourceURL=js_1d95f0491e"
            ]
          },
          "metadata": {}
        },
        {
          "output_type": "display_data",
          "data": {
            "text/plain": [
              "<IPython.core.display.Javascript object>"
            ],
            "application/javascript": [
              "window[\"fcc76b3a-cf2d-11ec-aa94-0242ac1c0002\"] = google.colab.output.setActiveOutputArea(window[\"fcacf87c-cf2d-11ec-aa94-0242ac1c0002\"]);\n",
              "//# sourceURL=js_0d27cf6556"
            ]
          },
          "metadata": {}
        },
        {
          "output_type": "display_data",
          "data": {
            "text/plain": [
              "<IPython.core.display.Javascript object>"
            ],
            "application/javascript": [
              "window[\"fcda2cca-cf2d-11ec-aa94-0242ac1c0002\"] = google.colab.output.getActiveOutputArea();\n",
              "//# sourceURL=js_aa50fce1bd"
            ]
          },
          "metadata": {}
        },
        {
          "output_type": "display_data",
          "data": {
            "text/plain": [
              "<IPython.core.display.Javascript object>"
            ],
            "application/javascript": [
              "window[\"fcdae37c-cf2d-11ec-aa94-0242ac1c0002\"] = document.querySelector(\"#id4-0-0\");\n",
              "//# sourceURL=js_23e1e68251"
            ]
          },
          "metadata": {}
        },
        {
          "output_type": "display_data",
          "data": {
            "text/plain": [
              "<IPython.core.display.Javascript object>"
            ],
            "application/javascript": [
              "window[\"fcdbe6c8-cf2d-11ec-aa94-0242ac1c0002\"] = google.colab.output.setActiveOutputArea(window[\"fcdae37c-cf2d-11ec-aa94-0242ac1c0002\"]);\n",
              "//# sourceURL=js_8e942f9d00"
            ]
          },
          "metadata": {}
        },
        {
          "output_type": "display_data",
          "data": {
            "text/plain": [
              "<IPython.core.display.Javascript object>"
            ],
            "application/javascript": [
              "window[\"fcf3aa10-cf2d-11ec-aa94-0242ac1c0002\"] = google.colab.output.setActiveOutputArea(window[\"fcda2cca-cf2d-11ec-aa94-0242ac1c0002\"]);\n",
              "//# sourceURL=js_48431518e4"
            ]
          },
          "metadata": {}
        },
        {
          "output_type": "display_data",
          "data": {
            "text/plain": [
              "<IPython.core.display.Javascript object>"
            ],
            "application/javascript": [
              "window[\"fd077824-cf2d-11ec-aa94-0242ac1c0002\"] = google.colab.output.getActiveOutputArea();\n",
              "//# sourceURL=js_713b73770e"
            ]
          },
          "metadata": {}
        },
        {
          "output_type": "display_data",
          "data": {
            "text/plain": [
              "<IPython.core.display.Javascript object>"
            ],
            "application/javascript": [
              "window[\"fd07efd4-cf2d-11ec-aa94-0242ac1c0002\"] = document.querySelector(\"#id4-0-0\");\n",
              "//# sourceURL=js_0339f359bc"
            ]
          },
          "metadata": {}
        },
        {
          "output_type": "display_data",
          "data": {
            "text/plain": [
              "<IPython.core.display.Javascript object>"
            ],
            "application/javascript": [
              "window[\"fd084eac-cf2d-11ec-aa94-0242ac1c0002\"] = google.colab.output.setActiveOutputArea(window[\"fd07efd4-cf2d-11ec-aa94-0242ac1c0002\"]);\n",
              "//# sourceURL=js_b17bc9c6a9"
            ]
          },
          "metadata": {}
        },
        {
          "output_type": "display_data",
          "data": {
            "text/plain": [
              "<IPython.core.display.Javascript object>"
            ],
            "application/javascript": [
              "window[\"fd1eebbc-cf2d-11ec-aa94-0242ac1c0002\"] = google.colab.output.setActiveOutputArea(window[\"fd077824-cf2d-11ec-aa94-0242ac1c0002\"]);\n",
              "//# sourceURL=js_e4bd331906"
            ]
          },
          "metadata": {}
        },
        {
          "output_type": "display_data",
          "data": {
            "text/plain": [
              "<IPython.core.display.Javascript object>"
            ],
            "application/javascript": [
              "window[\"fd31eb72-cf2d-11ec-aa94-0242ac1c0002\"] = google.colab.output.getActiveOutputArea();\n",
              "//# sourceURL=js_cdc45673b5"
            ]
          },
          "metadata": {}
        },
        {
          "output_type": "display_data",
          "data": {
            "text/plain": [
              "<IPython.core.display.Javascript object>"
            ],
            "application/javascript": [
              "window[\"fd3267fa-cf2d-11ec-aa94-0242ac1c0002\"] = document.querySelector(\"#id4-0-0\");\n",
              "//# sourceURL=js_34e592e3eb"
            ]
          },
          "metadata": {}
        },
        {
          "output_type": "display_data",
          "data": {
            "text/plain": [
              "<IPython.core.display.Javascript object>"
            ],
            "application/javascript": [
              "window[\"fd32dd98-cf2d-11ec-aa94-0242ac1c0002\"] = google.colab.output.setActiveOutputArea(window[\"fd3267fa-cf2d-11ec-aa94-0242ac1c0002\"]);\n",
              "//# sourceURL=js_4b06ccf401"
            ]
          },
          "metadata": {}
        },
        {
          "output_type": "display_data",
          "data": {
            "text/plain": [
              "<IPython.core.display.Javascript object>"
            ],
            "application/javascript": [
              "window[\"fd4a2872-cf2d-11ec-aa94-0242ac1c0002\"] = google.colab.output.setActiveOutputArea(window[\"fd31eb72-cf2d-11ec-aa94-0242ac1c0002\"]);\n",
              "//# sourceURL=js_d41d2bf328"
            ]
          },
          "metadata": {}
        },
        {
          "output_type": "display_data",
          "data": {
            "text/plain": [
              "<IPython.core.display.Javascript object>"
            ],
            "application/javascript": [
              "window[\"fd5d02b2-cf2d-11ec-aa94-0242ac1c0002\"] = google.colab.output.getActiveOutputArea();\n",
              "//# sourceURL=js_c17298df64"
            ]
          },
          "metadata": {}
        },
        {
          "output_type": "display_data",
          "data": {
            "text/plain": [
              "<IPython.core.display.Javascript object>"
            ],
            "application/javascript": [
              "window[\"fd5d4d9e-cf2d-11ec-aa94-0242ac1c0002\"] = document.querySelector(\"#id4-0-0\");\n",
              "//# sourceURL=js_13c29d683d"
            ]
          },
          "metadata": {}
        },
        {
          "output_type": "display_data",
          "data": {
            "text/plain": [
              "<IPython.core.display.Javascript object>"
            ],
            "application/javascript": [
              "window[\"fd5e7390-cf2d-11ec-aa94-0242ac1c0002\"] = google.colab.output.setActiveOutputArea(window[\"fd5d4d9e-cf2d-11ec-aa94-0242ac1c0002\"]);\n",
              "//# sourceURL=js_2dc3bd6bbc"
            ]
          },
          "metadata": {}
        },
        {
          "output_type": "display_data",
          "data": {
            "text/plain": [
              "<IPython.core.display.Javascript object>"
            ],
            "application/javascript": [
              "window[\"fd746858-cf2d-11ec-aa94-0242ac1c0002\"] = google.colab.output.setActiveOutputArea(window[\"fd5d02b2-cf2d-11ec-aa94-0242ac1c0002\"]);\n",
              "//# sourceURL=js_adfdc18bae"
            ]
          },
          "metadata": {}
        },
        {
          "output_type": "display_data",
          "data": {
            "text/plain": [
              "<IPython.core.display.Javascript object>"
            ],
            "application/javascript": [
              "window[\"fd85bab8-cf2d-11ec-aa94-0242ac1c0002\"] = google.colab.output.getActiveOutputArea();\n",
              "//# sourceURL=js_2c1f0a695c"
            ]
          },
          "metadata": {}
        },
        {
          "output_type": "display_data",
          "data": {
            "text/plain": [
              "<IPython.core.display.Javascript object>"
            ],
            "application/javascript": [
              "window[\"fd862200-cf2d-11ec-aa94-0242ac1c0002\"] = document.querySelector(\"#id4-0-0\");\n",
              "//# sourceURL=js_d12753180e"
            ]
          },
          "metadata": {}
        },
        {
          "output_type": "display_data",
          "data": {
            "text/plain": [
              "<IPython.core.display.Javascript object>"
            ],
            "application/javascript": [
              "window[\"fd868df8-cf2d-11ec-aa94-0242ac1c0002\"] = google.colab.output.setActiveOutputArea(window[\"fd862200-cf2d-11ec-aa94-0242ac1c0002\"]);\n",
              "//# sourceURL=js_ac9b1d9f3c"
            ]
          },
          "metadata": {}
        },
        {
          "output_type": "display_data",
          "data": {
            "text/plain": [
              "<IPython.core.display.Javascript object>"
            ],
            "application/javascript": [
              "window[\"fd9cc41a-cf2d-11ec-aa94-0242ac1c0002\"] = google.colab.output.setActiveOutputArea(window[\"fd85bab8-cf2d-11ec-aa94-0242ac1c0002\"]);\n",
              "//# sourceURL=js_00b02ad234"
            ]
          },
          "metadata": {}
        },
        {
          "output_type": "display_data",
          "data": {
            "text/plain": [
              "<IPython.core.display.Javascript object>"
            ],
            "application/javascript": [
              "window[\"fdae4294-cf2d-11ec-aa94-0242ac1c0002\"] = google.colab.output.getActiveOutputArea();\n",
              "//# sourceURL=js_7af086d953"
            ]
          },
          "metadata": {}
        },
        {
          "output_type": "display_data",
          "data": {
            "text/plain": [
              "<IPython.core.display.Javascript object>"
            ],
            "application/javascript": [
              "window[\"fdae9898-cf2d-11ec-aa94-0242ac1c0002\"] = document.querySelector(\"#id4-0-0\");\n",
              "//# sourceURL=js_041a1e32c8"
            ]
          },
          "metadata": {}
        },
        {
          "output_type": "display_data",
          "data": {
            "text/plain": [
              "<IPython.core.display.Javascript object>"
            ],
            "application/javascript": [
              "window[\"fdaeeba4-cf2d-11ec-aa94-0242ac1c0002\"] = google.colab.output.setActiveOutputArea(window[\"fdae9898-cf2d-11ec-aa94-0242ac1c0002\"]);\n",
              "//# sourceURL=js_1ed9cb70ff"
            ]
          },
          "metadata": {}
        },
        {
          "output_type": "display_data",
          "data": {
            "text/plain": [
              "<IPython.core.display.Javascript object>"
            ],
            "application/javascript": [
              "window[\"fdc4ae08-cf2d-11ec-aa94-0242ac1c0002\"] = google.colab.output.setActiveOutputArea(window[\"fdae4294-cf2d-11ec-aa94-0242ac1c0002\"]);\n",
              "//# sourceURL=js_6e1eedfa31"
            ]
          },
          "metadata": {}
        },
        {
          "output_type": "display_data",
          "data": {
            "text/plain": [
              "<IPython.core.display.Javascript object>"
            ],
            "application/javascript": [
              "window[\"fdd5d78c-cf2d-11ec-aa94-0242ac1c0002\"] = google.colab.output.getActiveOutputArea();\n",
              "//# sourceURL=js_4da52ad790"
            ]
          },
          "metadata": {}
        },
        {
          "output_type": "display_data",
          "data": {
            "text/plain": [
              "<IPython.core.display.Javascript object>"
            ],
            "application/javascript": [
              "window[\"fdd653e2-cf2d-11ec-aa94-0242ac1c0002\"] = document.querySelector(\"#id4-0-0\");\n",
              "//# sourceURL=js_bf32a15a69"
            ]
          },
          "metadata": {}
        },
        {
          "output_type": "display_data",
          "data": {
            "text/plain": [
              "<IPython.core.display.Javascript object>"
            ],
            "application/javascript": [
              "window[\"fdd6eba4-cf2d-11ec-aa94-0242ac1c0002\"] = google.colab.output.setActiveOutputArea(window[\"fdd653e2-cf2d-11ec-aa94-0242ac1c0002\"]);\n",
              "//# sourceURL=js_be58503b2f"
            ]
          },
          "metadata": {}
        },
        {
          "output_type": "display_data",
          "data": {
            "text/plain": [
              "<IPython.core.display.Javascript object>"
            ],
            "application/javascript": [
              "window[\"fdeff162-cf2d-11ec-aa94-0242ac1c0002\"] = google.colab.output.setActiveOutputArea(window[\"fdd5d78c-cf2d-11ec-aa94-0242ac1c0002\"]);\n",
              "//# sourceURL=js_f21350159a"
            ]
          },
          "metadata": {}
        },
        {
          "output_type": "display_data",
          "data": {
            "text/plain": [
              "<IPython.core.display.Javascript object>"
            ],
            "application/javascript": [
              "window[\"fe018f08-cf2d-11ec-aa94-0242ac1c0002\"] = google.colab.output.getActiveOutputArea();\n",
              "//# sourceURL=js_037e5d3682"
            ]
          },
          "metadata": {}
        },
        {
          "output_type": "display_data",
          "data": {
            "text/plain": [
              "<IPython.core.display.Javascript object>"
            ],
            "application/javascript": [
              "window[\"fe01e1ce-cf2d-11ec-aa94-0242ac1c0002\"] = document.querySelector(\"#id4-0-0\");\n",
              "//# sourceURL=js_123ce80297"
            ]
          },
          "metadata": {}
        },
        {
          "output_type": "display_data",
          "data": {
            "text/plain": [
              "<IPython.core.display.Javascript object>"
            ],
            "application/javascript": [
              "window[\"fe0236e2-cf2d-11ec-aa94-0242ac1c0002\"] = google.colab.output.setActiveOutputArea(window[\"fe01e1ce-cf2d-11ec-aa94-0242ac1c0002\"]);\n",
              "//# sourceURL=js_2b491f4eb2"
            ]
          },
          "metadata": {}
        },
        {
          "output_type": "display_data",
          "data": {
            "text/plain": [
              "<IPython.core.display.Javascript object>"
            ],
            "application/javascript": [
              "window[\"fe195af2-cf2d-11ec-aa94-0242ac1c0002\"] = google.colab.output.setActiveOutputArea(window[\"fe018f08-cf2d-11ec-aa94-0242ac1c0002\"]);\n",
              "//# sourceURL=js_851368cd61"
            ]
          },
          "metadata": {}
        },
        {
          "output_type": "display_data",
          "data": {
            "text/plain": [
              "<IPython.core.display.Javascript object>"
            ],
            "application/javascript": [
              "window[\"fe2bd308-cf2d-11ec-aa94-0242ac1c0002\"] = google.colab.output.getActiveOutputArea();\n",
              "//# sourceURL=js_1c98fd5488"
            ]
          },
          "metadata": {}
        },
        {
          "output_type": "display_data",
          "data": {
            "text/plain": [
              "<IPython.core.display.Javascript object>"
            ],
            "application/javascript": [
              "window[\"fe2cea2c-cf2d-11ec-aa94-0242ac1c0002\"] = document.querySelector(\"#id4-0-0\");\n",
              "//# sourceURL=js_3236eb8e77"
            ]
          },
          "metadata": {}
        },
        {
          "output_type": "display_data",
          "data": {
            "text/plain": [
              "<IPython.core.display.Javascript object>"
            ],
            "application/javascript": [
              "window[\"fe2db6b4-cf2d-11ec-aa94-0242ac1c0002\"] = google.colab.output.setActiveOutputArea(window[\"fe2cea2c-cf2d-11ec-aa94-0242ac1c0002\"]);\n",
              "//# sourceURL=js_774f14a258"
            ]
          },
          "metadata": {}
        },
        {
          "output_type": "display_data",
          "data": {
            "text/plain": [
              "<IPython.core.display.Javascript object>"
            ],
            "application/javascript": [
              "window[\"fe539014-cf2d-11ec-aa94-0242ac1c0002\"] = google.colab.output.setActiveOutputArea(window[\"fe2bd308-cf2d-11ec-aa94-0242ac1c0002\"]);\n",
              "//# sourceURL=js_61397c4936"
            ]
          },
          "metadata": {}
        },
        {
          "output_type": "display_data",
          "data": {
            "text/plain": [
              "<IPython.core.display.Javascript object>"
            ],
            "application/javascript": [
              "window[\"fe652b3a-cf2d-11ec-aa94-0242ac1c0002\"] = google.colab.output.getActiveOutputArea();\n",
              "//# sourceURL=js_066c9949a4"
            ]
          },
          "metadata": {}
        },
        {
          "output_type": "display_data",
          "data": {
            "text/plain": [
              "<IPython.core.display.Javascript object>"
            ],
            "application/javascript": [
              "window[\"fe658ada-cf2d-11ec-aa94-0242ac1c0002\"] = document.querySelector(\"#id4-0-0\");\n",
              "//# sourceURL=js_792cb2b386"
            ]
          },
          "metadata": {}
        },
        {
          "output_type": "display_data",
          "data": {
            "text/plain": [
              "<IPython.core.display.Javascript object>"
            ],
            "application/javascript": [
              "window[\"fe6654ba-cf2d-11ec-aa94-0242ac1c0002\"] = google.colab.output.setActiveOutputArea(window[\"fe658ada-cf2d-11ec-aa94-0242ac1c0002\"]);\n",
              "//# sourceURL=js_e5938e5897"
            ]
          },
          "metadata": {}
        },
        {
          "output_type": "display_data",
          "data": {
            "text/plain": [
              "<IPython.core.display.Javascript object>"
            ],
            "application/javascript": [
              "window[\"fe90508a-cf2d-11ec-aa94-0242ac1c0002\"] = google.colab.output.setActiveOutputArea(window[\"fe652b3a-cf2d-11ec-aa94-0242ac1c0002\"]);\n",
              "//# sourceURL=js_0e220124ec"
            ]
          },
          "metadata": {}
        },
        {
          "output_type": "display_data",
          "data": {
            "text/plain": [
              "<IPython.core.display.Javascript object>"
            ],
            "application/javascript": [
              "window[\"fea24f2e-cf2d-11ec-aa94-0242ac1c0002\"] = google.colab.output.getActiveOutputArea();\n",
              "//# sourceURL=js_3bc5cbec97"
            ]
          },
          "metadata": {}
        },
        {
          "output_type": "display_data",
          "data": {
            "text/plain": [
              "<IPython.core.display.Javascript object>"
            ],
            "application/javascript": [
              "window[\"fea445b8-cf2d-11ec-aa94-0242ac1c0002\"] = document.querySelector(\"#id4-0-0\");\n",
              "//# sourceURL=js_91dc164d5b"
            ]
          },
          "metadata": {}
        },
        {
          "output_type": "display_data",
          "data": {
            "text/plain": [
              "<IPython.core.display.Javascript object>"
            ],
            "application/javascript": [
              "window[\"fea52bae-cf2d-11ec-aa94-0242ac1c0002\"] = google.colab.output.setActiveOutputArea(window[\"fea445b8-cf2d-11ec-aa94-0242ac1c0002\"]);\n",
              "//# sourceURL=js_073d940144"
            ]
          },
          "metadata": {}
        },
        {
          "output_type": "display_data",
          "data": {
            "text/plain": [
              "<IPython.core.display.Javascript object>"
            ],
            "application/javascript": [
              "window[\"fedd2194-cf2d-11ec-aa94-0242ac1c0002\"] = google.colab.output.setActiveOutputArea(window[\"fea24f2e-cf2d-11ec-aa94-0242ac1c0002\"]);\n",
              "//# sourceURL=js_a20b3b43cf"
            ]
          },
          "metadata": {}
        },
        {
          "output_type": "display_data",
          "data": {
            "text/plain": [
              "<IPython.core.display.Javascript object>"
            ],
            "application/javascript": [
              "window[\"fef182f6-cf2d-11ec-aa94-0242ac1c0002\"] = google.colab.output.getActiveOutputArea();\n",
              "//# sourceURL=js_468ea5c78f"
            ]
          },
          "metadata": {}
        },
        {
          "output_type": "display_data",
          "data": {
            "text/plain": [
              "<IPython.core.display.Javascript object>"
            ],
            "application/javascript": [
              "window[\"fef2b068-cf2d-11ec-aa94-0242ac1c0002\"] = document.querySelector(\"#id4-0-0\");\n",
              "//# sourceURL=js_8c2f1e8703"
            ]
          },
          "metadata": {}
        },
        {
          "output_type": "display_data",
          "data": {
            "text/plain": [
              "<IPython.core.display.Javascript object>"
            ],
            "application/javascript": [
              "window[\"fef32af2-cf2d-11ec-aa94-0242ac1c0002\"] = google.colab.output.setActiveOutputArea(window[\"fef2b068-cf2d-11ec-aa94-0242ac1c0002\"]);\n",
              "//# sourceURL=js_2df91631cd"
            ]
          },
          "metadata": {}
        },
        {
          "output_type": "display_data",
          "data": {
            "text/plain": [
              "<IPython.core.display.Javascript object>"
            ],
            "application/javascript": [
              "window[\"ff2b658e-cf2d-11ec-aa94-0242ac1c0002\"] = google.colab.output.setActiveOutputArea(window[\"fef182f6-cf2d-11ec-aa94-0242ac1c0002\"]);\n",
              "//# sourceURL=js_3afed96941"
            ]
          },
          "metadata": {}
        },
        {
          "output_type": "display_data",
          "data": {
            "text/plain": [
              "<IPython.core.display.Javascript object>"
            ],
            "application/javascript": [
              "window[\"ff3ec0de-cf2d-11ec-aa94-0242ac1c0002\"] = google.colab.output.getActiveOutputArea();\n",
              "//# sourceURL=js_fe0af623a6"
            ]
          },
          "metadata": {}
        },
        {
          "output_type": "display_data",
          "data": {
            "text/plain": [
              "<IPython.core.display.Javascript object>"
            ],
            "application/javascript": [
              "window[\"ff3f49aa-cf2d-11ec-aa94-0242ac1c0002\"] = document.querySelector(\"#id4-0-0\");\n",
              "//# sourceURL=js_d7c433b865"
            ]
          },
          "metadata": {}
        },
        {
          "output_type": "display_data",
          "data": {
            "text/plain": [
              "<IPython.core.display.Javascript object>"
            ],
            "application/javascript": [
              "window[\"ff3fb2b4-cf2d-11ec-aa94-0242ac1c0002\"] = google.colab.output.setActiveOutputArea(window[\"ff3f49aa-cf2d-11ec-aa94-0242ac1c0002\"]);\n",
              "//# sourceURL=js_be8a7711f9"
            ]
          },
          "metadata": {}
        },
        {
          "output_type": "display_data",
          "data": {
            "text/plain": [
              "<IPython.core.display.Javascript object>"
            ],
            "application/javascript": [
              "window[\"ff64e64c-cf2d-11ec-aa94-0242ac1c0002\"] = google.colab.output.setActiveOutputArea(window[\"ff3ec0de-cf2d-11ec-aa94-0242ac1c0002\"]);\n",
              "//# sourceURL=js_6e85e4daf0"
            ]
          },
          "metadata": {}
        },
        {
          "output_type": "display_data",
          "data": {
            "text/plain": [
              "<IPython.core.display.Javascript object>"
            ],
            "application/javascript": [
              "window[\"ff7668d6-cf2d-11ec-aa94-0242ac1c0002\"] = google.colab.output.getActiveOutputArea();\n",
              "//# sourceURL=js_da17ea305c"
            ]
          },
          "metadata": {}
        },
        {
          "output_type": "display_data",
          "data": {
            "text/plain": [
              "<IPython.core.display.Javascript object>"
            ],
            "application/javascript": [
              "window[\"ff76c1f0-cf2d-11ec-aa94-0242ac1c0002\"] = document.querySelector(\"#id4-0-0\");\n",
              "//# sourceURL=js_b5f6c6b0eb"
            ]
          },
          "metadata": {}
        },
        {
          "output_type": "display_data",
          "data": {
            "text/plain": [
              "<IPython.core.display.Javascript object>"
            ],
            "application/javascript": [
              "window[\"ff772c80-cf2d-11ec-aa94-0242ac1c0002\"] = google.colab.output.setActiveOutputArea(window[\"ff76c1f0-cf2d-11ec-aa94-0242ac1c0002\"]);\n",
              "//# sourceURL=js_726078a83a"
            ]
          },
          "metadata": {}
        },
        {
          "output_type": "display_data",
          "data": {
            "text/plain": [
              "<IPython.core.display.Javascript object>"
            ],
            "application/javascript": [
              "window[\"ff8ec660-cf2d-11ec-aa94-0242ac1c0002\"] = google.colab.output.setActiveOutputArea(window[\"ff7668d6-cf2d-11ec-aa94-0242ac1c0002\"]);\n",
              "//# sourceURL=js_d76f3f28f1"
            ]
          },
          "metadata": {}
        },
        {
          "output_type": "display_data",
          "data": {
            "text/plain": [
              "<IPython.core.display.Javascript object>"
            ],
            "application/javascript": [
              "window[\"ffa094a8-cf2d-11ec-aa94-0242ac1c0002\"] = google.colab.output.getActiveOutputArea();\n",
              "//# sourceURL=js_f13c29ae06"
            ]
          },
          "metadata": {}
        },
        {
          "output_type": "display_data",
          "data": {
            "text/plain": [
              "<IPython.core.display.Javascript object>"
            ],
            "application/javascript": [
              "window[\"ffa0fc86-cf2d-11ec-aa94-0242ac1c0002\"] = document.querySelector(\"#id4-0-0\");\n",
              "//# sourceURL=js_d807d8d8a0"
            ]
          },
          "metadata": {}
        },
        {
          "output_type": "display_data",
          "data": {
            "text/plain": [
              "<IPython.core.display.Javascript object>"
            ],
            "application/javascript": [
              "window[\"ffa1533e-cf2d-11ec-aa94-0242ac1c0002\"] = google.colab.output.setActiveOutputArea(window[\"ffa0fc86-cf2d-11ec-aa94-0242ac1c0002\"]);\n",
              "//# sourceURL=js_d6f6acd809"
            ]
          },
          "metadata": {}
        },
        {
          "output_type": "display_data",
          "data": {
            "text/plain": [
              "<IPython.core.display.Javascript object>"
            ],
            "application/javascript": [
              "window[\"ffbaad84-cf2d-11ec-aa94-0242ac1c0002\"] = google.colab.output.setActiveOutputArea(window[\"ffa094a8-cf2d-11ec-aa94-0242ac1c0002\"]);\n",
              "//# sourceURL=js_fc293ff7ac"
            ]
          },
          "metadata": {}
        },
        {
          "output_type": "display_data",
          "data": {
            "text/plain": [
              "<IPython.core.display.Javascript object>"
            ],
            "application/javascript": [
              "window[\"ffcdaf38-cf2d-11ec-aa94-0242ac1c0002\"] = google.colab.output.getActiveOutputArea();\n",
              "//# sourceURL=js_b16095f685"
            ]
          },
          "metadata": {}
        },
        {
          "output_type": "display_data",
          "data": {
            "text/plain": [
              "<IPython.core.display.Javascript object>"
            ],
            "application/javascript": [
              "window[\"ffcdf9fc-cf2d-11ec-aa94-0242ac1c0002\"] = document.querySelector(\"#id4-0-0\");\n",
              "//# sourceURL=js_c91f497f9b"
            ]
          },
          "metadata": {}
        },
        {
          "output_type": "display_data",
          "data": {
            "text/plain": [
              "<IPython.core.display.Javascript object>"
            ],
            "application/javascript": [
              "window[\"ffce60b8-cf2d-11ec-aa94-0242ac1c0002\"] = google.colab.output.setActiveOutputArea(window[\"ffcdf9fc-cf2d-11ec-aa94-0242ac1c0002\"]);\n",
              "//# sourceURL=js_45f2dbb7d8"
            ]
          },
          "metadata": {}
        },
        {
          "output_type": "display_data",
          "data": {
            "text/plain": [
              "<IPython.core.display.Javascript object>"
            ],
            "application/javascript": [
              "window[\"ffe6e08e-cf2d-11ec-aa94-0242ac1c0002\"] = google.colab.output.setActiveOutputArea(window[\"ffcdaf38-cf2d-11ec-aa94-0242ac1c0002\"]);\n",
              "//# sourceURL=js_f69e290cef"
            ]
          },
          "metadata": {}
        },
        {
          "output_type": "display_data",
          "data": {
            "text/plain": [
              "<IPython.core.display.Javascript object>"
            ],
            "application/javascript": [
              "window[\"fffaa420-cf2d-11ec-aa94-0242ac1c0002\"] = google.colab.output.getActiveOutputArea();\n",
              "//# sourceURL=js_b8b020527f"
            ]
          },
          "metadata": {}
        },
        {
          "output_type": "display_data",
          "data": {
            "text/plain": [
              "<IPython.core.display.Javascript object>"
            ],
            "application/javascript": [
              "window[\"fffafc86-cf2d-11ec-aa94-0242ac1c0002\"] = document.querySelector(\"#id4-0-0\");\n",
              "//# sourceURL=js_013f93d3b7"
            ]
          },
          "metadata": {}
        },
        {
          "output_type": "display_data",
          "data": {
            "text/plain": [
              "<IPython.core.display.Javascript object>"
            ],
            "application/javascript": [
              "window[\"fffb6eaa-cf2d-11ec-aa94-0242ac1c0002\"] = google.colab.output.setActiveOutputArea(window[\"fffafc86-cf2d-11ec-aa94-0242ac1c0002\"]);\n",
              "//# sourceURL=js_4bf09fd55f"
            ]
          },
          "metadata": {}
        },
        {
          "output_type": "display_data",
          "data": {
            "text/plain": [
              "<IPython.core.display.Javascript object>"
            ],
            "application/javascript": [
              "window[\"00140762-cf2e-11ec-aa94-0242ac1c0002\"] = google.colab.output.setActiveOutputArea(window[\"fffaa420-cf2d-11ec-aa94-0242ac1c0002\"]);\n",
              "//# sourceURL=js_9802dcbe29"
            ]
          },
          "metadata": {}
        },
        {
          "output_type": "display_data",
          "data": {
            "text/plain": [
              "<IPython.core.display.Javascript object>"
            ],
            "application/javascript": [
              "window[\"00269eb8-cf2e-11ec-aa94-0242ac1c0002\"] = google.colab.output.getActiveOutputArea();\n",
              "//# sourceURL=js_bb112111d9"
            ]
          },
          "metadata": {}
        },
        {
          "output_type": "display_data",
          "data": {
            "text/plain": [
              "<IPython.core.display.Javascript object>"
            ],
            "application/javascript": [
              "window[\"0026eae4-cf2e-11ec-aa94-0242ac1c0002\"] = document.querySelector(\"#id4-0-0\");\n",
              "//# sourceURL=js_1e193bbb04"
            ]
          },
          "metadata": {}
        },
        {
          "output_type": "display_data",
          "data": {
            "text/plain": [
              "<IPython.core.display.Javascript object>"
            ],
            "application/javascript": [
              "window[\"00272e6e-cf2e-11ec-aa94-0242ac1c0002\"] = google.colab.output.setActiveOutputArea(window[\"0026eae4-cf2e-11ec-aa94-0242ac1c0002\"]);\n",
              "//# sourceURL=js_2ec20a4e46"
            ]
          },
          "metadata": {}
        },
        {
          "output_type": "display_data",
          "data": {
            "text/plain": [
              "<IPython.core.display.Javascript object>"
            ],
            "application/javascript": [
              "window[\"003eec2a-cf2e-11ec-aa94-0242ac1c0002\"] = google.colab.output.setActiveOutputArea(window[\"00269eb8-cf2e-11ec-aa94-0242ac1c0002\"]);\n",
              "//# sourceURL=js_483be9d003"
            ]
          },
          "metadata": {}
        },
        {
          "output_type": "display_data",
          "data": {
            "text/plain": [
              "<IPython.core.display.Javascript object>"
            ],
            "application/javascript": [
              "window[\"0050a2a8-cf2e-11ec-aa94-0242ac1c0002\"] = google.colab.output.getActiveOutputArea();\n",
              "//# sourceURL=js_12b03086d3"
            ]
          },
          "metadata": {}
        },
        {
          "output_type": "display_data",
          "data": {
            "text/plain": [
              "<IPython.core.display.Javascript object>"
            ],
            "application/javascript": [
              "window[\"0050eeac-cf2e-11ec-aa94-0242ac1c0002\"] = document.querySelector(\"#id4-0-0\");\n",
              "//# sourceURL=js_a65c0084a5"
            ]
          },
          "metadata": {}
        },
        {
          "output_type": "display_data",
          "data": {
            "text/plain": [
              "<IPython.core.display.Javascript object>"
            ],
            "application/javascript": [
              "window[\"0051a162-cf2e-11ec-aa94-0242ac1c0002\"] = google.colab.output.setActiveOutputArea(window[\"0050eeac-cf2e-11ec-aa94-0242ac1c0002\"]);\n",
              "//# sourceURL=js_b256683f17"
            ]
          },
          "metadata": {}
        },
        {
          "output_type": "display_data",
          "data": {
            "text/plain": [
              "<IPython.core.display.Javascript object>"
            ],
            "application/javascript": [
              "window[\"006a226e-cf2e-11ec-aa94-0242ac1c0002\"] = google.colab.output.setActiveOutputArea(window[\"0050a2a8-cf2e-11ec-aa94-0242ac1c0002\"]);\n",
              "//# sourceURL=js_aadaa5c619"
            ]
          },
          "metadata": {}
        },
        {
          "output_type": "display_data",
          "data": {
            "text/plain": [
              "<IPython.core.display.Javascript object>"
            ],
            "application/javascript": [
              "window[\"007b7708-cf2e-11ec-aa94-0242ac1c0002\"] = google.colab.output.getActiveOutputArea();\n",
              "//# sourceURL=js_98838df6d4"
            ]
          },
          "metadata": {}
        },
        {
          "output_type": "display_data",
          "data": {
            "text/plain": [
              "<IPython.core.display.Javascript object>"
            ],
            "application/javascript": [
              "window[\"007bdc02-cf2e-11ec-aa94-0242ac1c0002\"] = document.querySelector(\"#id4-0-0\");\n",
              "//# sourceURL=js_90846fc280"
            ]
          },
          "metadata": {}
        },
        {
          "output_type": "display_data",
          "data": {
            "text/plain": [
              "<IPython.core.display.Javascript object>"
            ],
            "application/javascript": [
              "window[\"007c8e4a-cf2e-11ec-aa94-0242ac1c0002\"] = google.colab.output.setActiveOutputArea(window[\"007bdc02-cf2e-11ec-aa94-0242ac1c0002\"]);\n",
              "//# sourceURL=js_0b962cc543"
            ]
          },
          "metadata": {}
        },
        {
          "output_type": "display_data",
          "data": {
            "text/plain": [
              "<IPython.core.display.Javascript object>"
            ],
            "application/javascript": [
              "window[\"0099f656-cf2e-11ec-aa94-0242ac1c0002\"] = google.colab.output.setActiveOutputArea(window[\"007b7708-cf2e-11ec-aa94-0242ac1c0002\"]);\n",
              "//# sourceURL=js_359a744e78"
            ]
          },
          "metadata": {}
        },
        {
          "output_type": "display_data",
          "data": {
            "text/plain": [
              "<IPython.core.display.Javascript object>"
            ],
            "application/javascript": [
              "window[\"00ab1774-cf2e-11ec-aa94-0242ac1c0002\"] = google.colab.output.getActiveOutputArea();\n",
              "//# sourceURL=js_29ebf5d969"
            ]
          },
          "metadata": {}
        },
        {
          "output_type": "display_data",
          "data": {
            "text/plain": [
              "<IPython.core.display.Javascript object>"
            ],
            "application/javascript": [
              "window[\"00ab7228-cf2e-11ec-aa94-0242ac1c0002\"] = document.querySelector(\"#id4-0-0\");\n",
              "//# sourceURL=js_9b64ae56f2"
            ]
          },
          "metadata": {}
        },
        {
          "output_type": "display_data",
          "data": {
            "text/plain": [
              "<IPython.core.display.Javascript object>"
            ],
            "application/javascript": [
              "window[\"00abd254-cf2e-11ec-aa94-0242ac1c0002\"] = google.colab.output.setActiveOutputArea(window[\"00ab7228-cf2e-11ec-aa94-0242ac1c0002\"]);\n",
              "//# sourceURL=js_a09d06756e"
            ]
          },
          "metadata": {}
        },
        {
          "output_type": "display_data",
          "data": {
            "text/plain": [
              "<IPython.core.display.Javascript object>"
            ],
            "application/javascript": [
              "window[\"00c2b104-cf2e-11ec-aa94-0242ac1c0002\"] = google.colab.output.setActiveOutputArea(window[\"00ab1774-cf2e-11ec-aa94-0242ac1c0002\"]);\n",
              "//# sourceURL=js_7b01417399"
            ]
          },
          "metadata": {}
        },
        {
          "output_type": "display_data",
          "data": {
            "text/plain": [
              "<IPython.core.display.Javascript object>"
            ],
            "application/javascript": [
              "window[\"00d3faae-cf2e-11ec-aa94-0242ac1c0002\"] = google.colab.output.getActiveOutputArea();\n",
              "//# sourceURL=js_0096887ba0"
            ]
          },
          "metadata": {}
        },
        {
          "output_type": "display_data",
          "data": {
            "text/plain": [
              "<IPython.core.display.Javascript object>"
            ],
            "application/javascript": [
              "window[\"00d45aa8-cf2e-11ec-aa94-0242ac1c0002\"] = document.querySelector(\"#id4-0-0\");\n",
              "//# sourceURL=js_bc11ef2307"
            ]
          },
          "metadata": {}
        },
        {
          "output_type": "display_data",
          "data": {
            "text/plain": [
              "<IPython.core.display.Javascript object>"
            ],
            "application/javascript": [
              "window[\"00d4b73c-cf2e-11ec-aa94-0242ac1c0002\"] = google.colab.output.setActiveOutputArea(window[\"00d45aa8-cf2e-11ec-aa94-0242ac1c0002\"]);\n",
              "//# sourceURL=js_25e429fc43"
            ]
          },
          "metadata": {}
        },
        {
          "output_type": "display_data",
          "data": {
            "text/plain": [
              "<IPython.core.display.Javascript object>"
            ],
            "application/javascript": [
              "window[\"00eb2d5a-cf2e-11ec-aa94-0242ac1c0002\"] = google.colab.output.setActiveOutputArea(window[\"00d3faae-cf2e-11ec-aa94-0242ac1c0002\"]);\n",
              "//# sourceURL=js_4957551847"
            ]
          },
          "metadata": {}
        },
        {
          "output_type": "display_data",
          "data": {
            "text/plain": [
              "<IPython.core.display.Javascript object>"
            ],
            "application/javascript": [
              "window[\"00fcb34a-cf2e-11ec-aa94-0242ac1c0002\"] = google.colab.output.getActiveOutputArea();\n",
              "//# sourceURL=js_65b62ac3eb"
            ]
          },
          "metadata": {}
        },
        {
          "output_type": "display_data",
          "data": {
            "text/plain": [
              "<IPython.core.display.Javascript object>"
            ],
            "application/javascript": [
              "window[\"00fd0dea-cf2e-11ec-aa94-0242ac1c0002\"] = document.querySelector(\"#id4-0-0\");\n",
              "//# sourceURL=js_b87aba513f"
            ]
          },
          "metadata": {}
        },
        {
          "output_type": "display_data",
          "data": {
            "text/plain": [
              "<IPython.core.display.Javascript object>"
            ],
            "application/javascript": [
              "window[\"00fd6966-cf2e-11ec-aa94-0242ac1c0002\"] = google.colab.output.setActiveOutputArea(window[\"00fd0dea-cf2e-11ec-aa94-0242ac1c0002\"]);\n",
              "//# sourceURL=js_070304d94b"
            ]
          },
          "metadata": {}
        },
        {
          "output_type": "display_data",
          "data": {
            "text/plain": [
              "<IPython.core.display.Javascript object>"
            ],
            "application/javascript": [
              "window[\"0113fd48-cf2e-11ec-aa94-0242ac1c0002\"] = google.colab.output.setActiveOutputArea(window[\"00fcb34a-cf2e-11ec-aa94-0242ac1c0002\"]);\n",
              "//# sourceURL=js_e62b8711ac"
            ]
          },
          "metadata": {}
        },
        {
          "output_type": "display_data",
          "data": {
            "text/plain": [
              "<IPython.core.display.Javascript object>"
            ],
            "application/javascript": [
              "window[\"01250476-cf2e-11ec-aa94-0242ac1c0002\"] = google.colab.output.getActiveOutputArea();\n",
              "//# sourceURL=js_240d7638fa"
            ]
          },
          "metadata": {}
        },
        {
          "output_type": "display_data",
          "data": {
            "text/plain": [
              "<IPython.core.display.Javascript object>"
            ],
            "application/javascript": [
              "window[\"0125532c-cf2e-11ec-aa94-0242ac1c0002\"] = document.querySelector(\"#id4-0-0\");\n",
              "//# sourceURL=js_a0f717a0b2"
            ]
          },
          "metadata": {}
        },
        {
          "output_type": "display_data",
          "data": {
            "text/plain": [
              "<IPython.core.display.Javascript object>"
            ],
            "application/javascript": [
              "window[\"01259a12-cf2e-11ec-aa94-0242ac1c0002\"] = google.colab.output.setActiveOutputArea(window[\"0125532c-cf2e-11ec-aa94-0242ac1c0002\"]);\n",
              "//# sourceURL=js_e0cbdcfcd3"
            ]
          },
          "metadata": {}
        },
        {
          "output_type": "display_data",
          "data": {
            "text/plain": [
              "<IPython.core.display.Javascript object>"
            ],
            "application/javascript": [
              "window[\"013c0df6-cf2e-11ec-aa94-0242ac1c0002\"] = google.colab.output.setActiveOutputArea(window[\"01250476-cf2e-11ec-aa94-0242ac1c0002\"]);\n",
              "//# sourceURL=js_ee8f121e61"
            ]
          },
          "metadata": {}
        },
        {
          "output_type": "display_data",
          "data": {
            "text/plain": [
              "<IPython.core.display.Javascript object>"
            ],
            "application/javascript": [
              "window[\"014d49b8-cf2e-11ec-aa94-0242ac1c0002\"] = google.colab.output.getActiveOutputArea();\n",
              "//# sourceURL=js_4a48dcee13"
            ]
          },
          "metadata": {}
        },
        {
          "output_type": "display_data",
          "data": {
            "text/plain": [
              "<IPython.core.display.Javascript object>"
            ],
            "application/javascript": [
              "window[\"014da46c-cf2e-11ec-aa94-0242ac1c0002\"] = document.querySelector(\"#id4-0-0\");\n",
              "//# sourceURL=js_c04a83cf39"
            ]
          },
          "metadata": {}
        },
        {
          "output_type": "display_data",
          "data": {
            "text/plain": [
              "<IPython.core.display.Javascript object>"
            ],
            "application/javascript": [
              "window[\"014df8ea-cf2e-11ec-aa94-0242ac1c0002\"] = google.colab.output.setActiveOutputArea(window[\"014da46c-cf2e-11ec-aa94-0242ac1c0002\"]);\n",
              "//# sourceURL=js_9a0dd25361"
            ]
          },
          "metadata": {}
        },
        {
          "output_type": "display_data",
          "data": {
            "text/plain": [
              "<IPython.core.display.Javascript object>"
            ],
            "application/javascript": [
              "window[\"0164243a-cf2e-11ec-aa94-0242ac1c0002\"] = google.colab.output.setActiveOutputArea(window[\"014d49b8-cf2e-11ec-aa94-0242ac1c0002\"]);\n",
              "//# sourceURL=js_dbc52314bc"
            ]
          },
          "metadata": {}
        },
        {
          "output_type": "display_data",
          "data": {
            "text/plain": [
              "<IPython.core.display.Javascript object>"
            ],
            "application/javascript": [
              "window[\"017545e4-cf2e-11ec-aa94-0242ac1c0002\"] = google.colab.output.getActiveOutputArea();\n",
              "//# sourceURL=js_3237051d94"
            ]
          },
          "metadata": {}
        },
        {
          "output_type": "display_data",
          "data": {
            "text/plain": [
              "<IPython.core.display.Javascript object>"
            ],
            "application/javascript": [
              "window[\"0175a034-cf2e-11ec-aa94-0242ac1c0002\"] = document.querySelector(\"#id4-0-0\");\n",
              "//# sourceURL=js_c57232e2fd"
            ]
          },
          "metadata": {}
        },
        {
          "output_type": "display_data",
          "data": {
            "text/plain": [
              "<IPython.core.display.Javascript object>"
            ],
            "application/javascript": [
              "window[\"0175e968-cf2e-11ec-aa94-0242ac1c0002\"] = google.colab.output.setActiveOutputArea(window[\"0175a034-cf2e-11ec-aa94-0242ac1c0002\"]);\n",
              "//# sourceURL=js_418797a9a4"
            ]
          },
          "metadata": {}
        },
        {
          "output_type": "display_data",
          "data": {
            "text/plain": [
              "<IPython.core.display.Javascript object>"
            ],
            "application/javascript": [
              "window[\"018f103c-cf2e-11ec-aa94-0242ac1c0002\"] = google.colab.output.setActiveOutputArea(window[\"017545e4-cf2e-11ec-aa94-0242ac1c0002\"]);\n",
              "//# sourceURL=js_af69ea5e0d"
            ]
          },
          "metadata": {}
        },
        {
          "output_type": "display_data",
          "data": {
            "text/plain": [
              "<IPython.core.display.Javascript object>"
            ],
            "application/javascript": [
              "window[\"01a0bf6c-cf2e-11ec-aa94-0242ac1c0002\"] = google.colab.output.getActiveOutputArea();\n",
              "//# sourceURL=js_bc0b16c3ab"
            ]
          },
          "metadata": {}
        },
        {
          "output_type": "display_data",
          "data": {
            "text/plain": [
              "<IPython.core.display.Javascript object>"
            ],
            "application/javascript": [
              "window[\"01a10ada-cf2e-11ec-aa94-0242ac1c0002\"] = document.querySelector(\"#id4-0-0\");\n",
              "//# sourceURL=js_6c49f0cd92"
            ]
          },
          "metadata": {}
        },
        {
          "output_type": "display_data",
          "data": {
            "text/plain": [
              "<IPython.core.display.Javascript object>"
            ],
            "application/javascript": [
              "window[\"01a15422-cf2e-11ec-aa94-0242ac1c0002\"] = google.colab.output.setActiveOutputArea(window[\"01a10ada-cf2e-11ec-aa94-0242ac1c0002\"]);\n",
              "//# sourceURL=js_8e9fefb715"
            ]
          },
          "metadata": {}
        },
        {
          "output_type": "display_data",
          "data": {
            "text/plain": [
              "<IPython.core.display.Javascript object>"
            ],
            "application/javascript": [
              "window[\"01b93380-cf2e-11ec-aa94-0242ac1c0002\"] = google.colab.output.setActiveOutputArea(window[\"01a0bf6c-cf2e-11ec-aa94-0242ac1c0002\"]);\n",
              "//# sourceURL=js_4fa27ac0ce"
            ]
          },
          "metadata": {}
        },
        {
          "output_type": "display_data",
          "data": {
            "text/plain": [
              "<IPython.core.display.Javascript object>"
            ],
            "application/javascript": [
              "window[\"01cab470-cf2e-11ec-aa94-0242ac1c0002\"] = google.colab.output.getActiveOutputArea();\n",
              "//# sourceURL=js_4d9a937af2"
            ]
          },
          "metadata": {}
        },
        {
          "output_type": "display_data",
          "data": {
            "text/plain": [
              "<IPython.core.display.Javascript object>"
            ],
            "application/javascript": [
              "window[\"01cb3012-cf2e-11ec-aa94-0242ac1c0002\"] = document.querySelector(\"#id4-0-0\");\n",
              "//# sourceURL=js_092ae4506a"
            ]
          },
          "metadata": {}
        },
        {
          "output_type": "display_data",
          "data": {
            "text/plain": [
              "<IPython.core.display.Javascript object>"
            ],
            "application/javascript": [
              "window[\"01cbacd6-cf2e-11ec-aa94-0242ac1c0002\"] = google.colab.output.setActiveOutputArea(window[\"01cb3012-cf2e-11ec-aa94-0242ac1c0002\"]);\n",
              "//# sourceURL=js_76c67428b7"
            ]
          },
          "metadata": {}
        },
        {
          "output_type": "display_data",
          "data": {
            "text/plain": [
              "<IPython.core.display.Javascript object>"
            ],
            "application/javascript": [
              "window[\"01e2ae0e-cf2e-11ec-aa94-0242ac1c0002\"] = google.colab.output.setActiveOutputArea(window[\"01cab470-cf2e-11ec-aa94-0242ac1c0002\"]);\n",
              "//# sourceURL=js_3631599093"
            ]
          },
          "metadata": {}
        },
        {
          "output_type": "display_data",
          "data": {
            "text/plain": [
              "<IPython.core.display.Javascript object>"
            ],
            "application/javascript": [
              "window[\"01f43e30-cf2e-11ec-aa94-0242ac1c0002\"] = google.colab.output.getActiveOutputArea();\n",
              "//# sourceURL=js_f53a3ff162"
            ]
          },
          "metadata": {}
        },
        {
          "output_type": "display_data",
          "data": {
            "text/plain": [
              "<IPython.core.display.Javascript object>"
            ],
            "application/javascript": [
              "window[\"01f48fac-cf2e-11ec-aa94-0242ac1c0002\"] = document.querySelector(\"#id4-0-0\");\n",
              "//# sourceURL=js_4310d7801c"
            ]
          },
          "metadata": {}
        },
        {
          "output_type": "display_data",
          "data": {
            "text/plain": [
              "<IPython.core.display.Javascript object>"
            ],
            "application/javascript": [
              "window[\"01f50130-cf2e-11ec-aa94-0242ac1c0002\"] = google.colab.output.setActiveOutputArea(window[\"01f48fac-cf2e-11ec-aa94-0242ac1c0002\"]);\n",
              "//# sourceURL=js_26cbb36034"
            ]
          },
          "metadata": {}
        },
        {
          "output_type": "display_data",
          "data": {
            "text/plain": [
              "<IPython.core.display.Javascript object>"
            ],
            "application/javascript": [
              "window[\"020e13fa-cf2e-11ec-aa94-0242ac1c0002\"] = google.colab.output.setActiveOutputArea(window[\"01f43e30-cf2e-11ec-aa94-0242ac1c0002\"]);\n",
              "//# sourceURL=js_db9acf85f9"
            ]
          },
          "metadata": {}
        },
        {
          "output_type": "display_data",
          "data": {
            "text/plain": [
              "<IPython.core.display.Javascript object>"
            ],
            "application/javascript": [
              "window[\"0221bf86-cf2e-11ec-aa94-0242ac1c0002\"] = google.colab.output.getActiveOutputArea();\n",
              "//# sourceURL=js_2fc42f8c4e"
            ]
          },
          "metadata": {}
        },
        {
          "output_type": "display_data",
          "data": {
            "text/plain": [
              "<IPython.core.display.Javascript object>"
            ],
            "application/javascript": [
              "window[\"02231f2a-cf2e-11ec-aa94-0242ac1c0002\"] = document.querySelector(\"#id4-0-0\");\n",
              "//# sourceURL=js_ce974ec2bb"
            ]
          },
          "metadata": {}
        },
        {
          "output_type": "display_data",
          "data": {
            "text/plain": [
              "<IPython.core.display.Javascript object>"
            ],
            "application/javascript": [
              "window[\"02246fb0-cf2e-11ec-aa94-0242ac1c0002\"] = google.colab.output.setActiveOutputArea(window[\"02231f2a-cf2e-11ec-aa94-0242ac1c0002\"]);\n",
              "//# sourceURL=js_4b3139958c"
            ]
          },
          "metadata": {}
        },
        {
          "output_type": "display_data",
          "data": {
            "text/plain": [
              "<IPython.core.display.Javascript object>"
            ],
            "application/javascript": [
              "window[\"026b1960-cf2e-11ec-aa94-0242ac1c0002\"] = google.colab.output.setActiveOutputArea(window[\"0221bf86-cf2e-11ec-aa94-0242ac1c0002\"]);\n",
              "//# sourceURL=js_1c230558a9"
            ]
          },
          "metadata": {}
        },
        {
          "output_type": "display_data",
          "data": {
            "text/plain": [
              "<IPython.core.display.Javascript object>"
            ],
            "application/javascript": [
              "window[\"0281127e-cf2e-11ec-aa94-0242ac1c0002\"] = google.colab.output.getActiveOutputArea();\n",
              "//# sourceURL=js_ee7e615a5e"
            ]
          },
          "metadata": {}
        },
        {
          "output_type": "display_data",
          "data": {
            "text/plain": [
              "<IPython.core.display.Javascript object>"
            ],
            "application/javascript": [
              "window[\"028243a6-cf2e-11ec-aa94-0242ac1c0002\"] = document.querySelector(\"#id4-0-0\");\n",
              "//# sourceURL=js_06f8dab24f"
            ]
          },
          "metadata": {}
        },
        {
          "output_type": "display_data",
          "data": {
            "text/plain": [
              "<IPython.core.display.Javascript object>"
            ],
            "application/javascript": [
              "window[\"02842540-cf2e-11ec-aa94-0242ac1c0002\"] = google.colab.output.setActiveOutputArea(window[\"028243a6-cf2e-11ec-aa94-0242ac1c0002\"]);\n",
              "//# sourceURL=js_4143581552"
            ]
          },
          "metadata": {}
        },
        {
          "output_type": "display_data",
          "data": {
            "text/plain": [
              "<IPython.core.display.Javascript object>"
            ],
            "application/javascript": [
              "window[\"02bee3ce-cf2e-11ec-aa94-0242ac1c0002\"] = google.colab.output.setActiveOutputArea(window[\"0281127e-cf2e-11ec-aa94-0242ac1c0002\"]);\n",
              "//# sourceURL=js_e18d6d6c3d"
            ]
          },
          "metadata": {}
        },
        {
          "output_type": "display_data",
          "data": {
            "text/plain": [
              "<IPython.core.display.Javascript object>"
            ],
            "application/javascript": [
              "window[\"02d0fa8c-cf2e-11ec-aa94-0242ac1c0002\"] = google.colab.output.getActiveOutputArea();\n",
              "//# sourceURL=js_eadb233faf"
            ]
          },
          "metadata": {}
        },
        {
          "output_type": "display_data",
          "data": {
            "text/plain": [
              "<IPython.core.display.Javascript object>"
            ],
            "application/javascript": [
              "window[\"02d15126-cf2e-11ec-aa94-0242ac1c0002\"] = document.querySelector(\"#id4-0-0\");\n",
              "//# sourceURL=js_05098ecc6b"
            ]
          },
          "metadata": {}
        },
        {
          "output_type": "display_data",
          "data": {
            "text/plain": [
              "<IPython.core.display.Javascript object>"
            ],
            "application/javascript": [
              "window[\"02d1a702-cf2e-11ec-aa94-0242ac1c0002\"] = google.colab.output.setActiveOutputArea(window[\"02d15126-cf2e-11ec-aa94-0242ac1c0002\"]);\n",
              "//# sourceURL=js_453a4e268d"
            ]
          },
          "metadata": {}
        },
        {
          "output_type": "display_data",
          "data": {
            "text/plain": [
              "<IPython.core.display.Javascript object>"
            ],
            "application/javascript": [
              "window[\"02e8778e-cf2e-11ec-aa94-0242ac1c0002\"] = google.colab.output.setActiveOutputArea(window[\"02d0fa8c-cf2e-11ec-aa94-0242ac1c0002\"]);\n",
              "//# sourceURL=js_0cbfee165c"
            ]
          },
          "metadata": {}
        },
        {
          "output_type": "display_data",
          "data": {
            "text/plain": [
              "<IPython.core.display.Javascript object>"
            ],
            "application/javascript": [
              "window[\"02f9bda0-cf2e-11ec-aa94-0242ac1c0002\"] = google.colab.output.getActiveOutputArea();\n",
              "//# sourceURL=js_1661bc83fe"
            ]
          },
          "metadata": {}
        },
        {
          "output_type": "display_data",
          "data": {
            "text/plain": [
              "<IPython.core.display.Javascript object>"
            ],
            "application/javascript": [
              "window[\"02fa1994-cf2e-11ec-aa94-0242ac1c0002\"] = document.querySelector(\"#id4-0-0\");\n",
              "//# sourceURL=js_153fbf449e"
            ]
          },
          "metadata": {}
        },
        {
          "output_type": "display_data",
          "data": {
            "text/plain": [
              "<IPython.core.display.Javascript object>"
            ],
            "application/javascript": [
              "window[\"02fa7376-cf2e-11ec-aa94-0242ac1c0002\"] = google.colab.output.setActiveOutputArea(window[\"02fa1994-cf2e-11ec-aa94-0242ac1c0002\"]);\n",
              "//# sourceURL=js_ddd9e768de"
            ]
          },
          "metadata": {}
        },
        {
          "output_type": "display_data",
          "data": {
            "text/plain": [
              "<IPython.core.display.Javascript object>"
            ],
            "application/javascript": [
              "window[\"0310bed8-cf2e-11ec-aa94-0242ac1c0002\"] = google.colab.output.setActiveOutputArea(window[\"02f9bda0-cf2e-11ec-aa94-0242ac1c0002\"]);\n",
              "//# sourceURL=js_19375e3dd4"
            ]
          },
          "metadata": {}
        },
        {
          "output_type": "display_data",
          "data": {
            "text/plain": [
              "<IPython.core.display.Javascript object>"
            ],
            "application/javascript": [
              "window[\"0321d7ae-cf2e-11ec-aa94-0242ac1c0002\"] = google.colab.output.getActiveOutputArea();\n",
              "//# sourceURL=js_5d202111bf"
            ]
          },
          "metadata": {}
        },
        {
          "output_type": "display_data",
          "data": {
            "text/plain": [
              "<IPython.core.display.Javascript object>"
            ],
            "application/javascript": [
              "window[\"03222498-cf2e-11ec-aa94-0242ac1c0002\"] = document.querySelector(\"#id4-0-0\");\n",
              "//# sourceURL=js_c303fb5177"
            ]
          },
          "metadata": {}
        },
        {
          "output_type": "display_data",
          "data": {
            "text/plain": [
              "<IPython.core.display.Javascript object>"
            ],
            "application/javascript": [
              "window[\"0322792a-cf2e-11ec-aa94-0242ac1c0002\"] = google.colab.output.setActiveOutputArea(window[\"03222498-cf2e-11ec-aa94-0242ac1c0002\"]);\n",
              "//# sourceURL=js_9698778c6d"
            ]
          },
          "metadata": {}
        },
        {
          "output_type": "display_data",
          "data": {
            "text/plain": [
              "<IPython.core.display.Javascript object>"
            ],
            "application/javascript": [
              "window[\"0339e894-cf2e-11ec-aa94-0242ac1c0002\"] = google.colab.output.setActiveOutputArea(window[\"0321d7ae-cf2e-11ec-aa94-0242ac1c0002\"]);\n",
              "//# sourceURL=js_cc750b2e14"
            ]
          },
          "metadata": {}
        },
        {
          "output_type": "display_data",
          "data": {
            "text/plain": [
              "<IPython.core.display.Javascript object>"
            ],
            "application/javascript": [
              "window[\"034b13da-cf2e-11ec-aa94-0242ac1c0002\"] = google.colab.output.getActiveOutputArea();\n",
              "//# sourceURL=js_f48646c7dc"
            ]
          },
          "metadata": {}
        },
        {
          "output_type": "display_data",
          "data": {
            "text/plain": [
              "<IPython.core.display.Javascript object>"
            ],
            "application/javascript": [
              "window[\"034b6218-cf2e-11ec-aa94-0242ac1c0002\"] = document.querySelector(\"#id4-0-0\");\n",
              "//# sourceURL=js_ddb5e776cf"
            ]
          },
          "metadata": {}
        },
        {
          "output_type": "display_data",
          "data": {
            "text/plain": [
              "<IPython.core.display.Javascript object>"
            ],
            "application/javascript": [
              "window[\"034ba7d2-cf2e-11ec-aa94-0242ac1c0002\"] = google.colab.output.setActiveOutputArea(window[\"034b6218-cf2e-11ec-aa94-0242ac1c0002\"]);\n",
              "//# sourceURL=js_b9e7e9e12b"
            ]
          },
          "metadata": {}
        },
        {
          "output_type": "display_data",
          "data": {
            "text/plain": [
              "<IPython.core.display.Javascript object>"
            ],
            "application/javascript": [
              "window[\"03636890-cf2e-11ec-aa94-0242ac1c0002\"] = google.colab.output.setActiveOutputArea(window[\"034b13da-cf2e-11ec-aa94-0242ac1c0002\"]);\n",
              "//# sourceURL=js_6e45bc70d9"
            ]
          },
          "metadata": {}
        },
        {
          "output_type": "display_data",
          "data": {
            "text/plain": [
              "<IPython.core.display.Javascript object>"
            ],
            "application/javascript": [
              "window[\"03754c9a-cf2e-11ec-aa94-0242ac1c0002\"] = google.colab.output.getActiveOutputArea();\n",
              "//# sourceURL=js_6003609283"
            ]
          },
          "metadata": {}
        },
        {
          "output_type": "display_data",
          "data": {
            "text/plain": [
              "<IPython.core.display.Javascript object>"
            ],
            "application/javascript": [
              "window[\"03759fba-cf2e-11ec-aa94-0242ac1c0002\"] = document.querySelector(\"#id4-0-0\");\n",
              "//# sourceURL=js_f2db3c791e"
            ]
          },
          "metadata": {}
        },
        {
          "output_type": "display_data",
          "data": {
            "text/plain": [
              "<IPython.core.display.Javascript object>"
            ],
            "application/javascript": [
              "window[\"0375f2e4-cf2e-11ec-aa94-0242ac1c0002\"] = google.colab.output.setActiveOutputArea(window[\"03759fba-cf2e-11ec-aa94-0242ac1c0002\"]);\n",
              "//# sourceURL=js_bb398efc5d"
            ]
          },
          "metadata": {}
        },
        {
          "output_type": "display_data",
          "data": {
            "text/plain": [
              "<IPython.core.display.Javascript object>"
            ],
            "application/javascript": [
              "window[\"038daf60-cf2e-11ec-aa94-0242ac1c0002\"] = google.colab.output.setActiveOutputArea(window[\"03754c9a-cf2e-11ec-aa94-0242ac1c0002\"]);\n",
              "//# sourceURL=js_a5541a3004"
            ]
          },
          "metadata": {}
        },
        {
          "output_type": "display_data",
          "data": {
            "text/plain": [
              "<IPython.core.display.Javascript object>"
            ],
            "application/javascript": [
              "window[\"039ef04a-cf2e-11ec-aa94-0242ac1c0002\"] = google.colab.output.getActiveOutputArea();\n",
              "//# sourceURL=js_58730255ac"
            ]
          },
          "metadata": {}
        },
        {
          "output_type": "display_data",
          "data": {
            "text/plain": [
              "<IPython.core.display.Javascript object>"
            ],
            "application/javascript": [
              "window[\"039f579c-cf2e-11ec-aa94-0242ac1c0002\"] = document.querySelector(\"#id4-0-0\");\n",
              "//# sourceURL=js_82e4518260"
            ]
          },
          "metadata": {}
        },
        {
          "output_type": "display_data",
          "data": {
            "text/plain": [
              "<IPython.core.display.Javascript object>"
            ],
            "application/javascript": [
              "window[\"039fcb64-cf2e-11ec-aa94-0242ac1c0002\"] = google.colab.output.setActiveOutputArea(window[\"039f579c-cf2e-11ec-aa94-0242ac1c0002\"]);\n",
              "//# sourceURL=js_5ae06241c2"
            ]
          },
          "metadata": {}
        },
        {
          "output_type": "display_data",
          "data": {
            "text/plain": [
              "<IPython.core.display.Javascript object>"
            ],
            "application/javascript": [
              "window[\"03b6463c-cf2e-11ec-aa94-0242ac1c0002\"] = google.colab.output.setActiveOutputArea(window[\"039ef04a-cf2e-11ec-aa94-0242ac1c0002\"]);\n",
              "//# sourceURL=js_18a7722317"
            ]
          },
          "metadata": {}
        },
        {
          "output_type": "display_data",
          "data": {
            "text/plain": [
              "<IPython.core.display.Javascript object>"
            ],
            "application/javascript": [
              "window[\"03c7756a-cf2e-11ec-aa94-0242ac1c0002\"] = google.colab.output.getActiveOutputArea();\n",
              "//# sourceURL=js_3d779f7373"
            ]
          },
          "metadata": {}
        },
        {
          "output_type": "display_data",
          "data": {
            "text/plain": [
              "<IPython.core.display.Javascript object>"
            ],
            "application/javascript": [
              "window[\"03c81704-cf2e-11ec-aa94-0242ac1c0002\"] = document.querySelector(\"#id4-0-0\");\n",
              "//# sourceURL=js_532623a97f"
            ]
          },
          "metadata": {}
        },
        {
          "output_type": "display_data",
          "data": {
            "text/plain": [
              "<IPython.core.display.Javascript object>"
            ],
            "application/javascript": [
              "window[\"03c87348-cf2e-11ec-aa94-0242ac1c0002\"] = google.colab.output.setActiveOutputArea(window[\"03c81704-cf2e-11ec-aa94-0242ac1c0002\"]);\n",
              "//# sourceURL=js_6e61335586"
            ]
          },
          "metadata": {}
        },
        {
          "output_type": "display_data",
          "data": {
            "text/plain": [
              "<IPython.core.display.Javascript object>"
            ],
            "application/javascript": [
              "window[\"03e0efa4-cf2e-11ec-aa94-0242ac1c0002\"] = google.colab.output.setActiveOutputArea(window[\"03c7756a-cf2e-11ec-aa94-0242ac1c0002\"]);\n",
              "//# sourceURL=js_d3c62f822f"
            ]
          },
          "metadata": {}
        },
        {
          "output_type": "display_data",
          "data": {
            "text/plain": [
              "<IPython.core.display.Javascript object>"
            ],
            "application/javascript": [
              "window[\"03f49540-cf2e-11ec-aa94-0242ac1c0002\"] = google.colab.output.getActiveOutputArea();\n",
              "//# sourceURL=js_9766a1e04e"
            ]
          },
          "metadata": {}
        },
        {
          "output_type": "display_data",
          "data": {
            "text/plain": [
              "<IPython.core.display.Javascript object>"
            ],
            "application/javascript": [
              "window[\"03f504c6-cf2e-11ec-aa94-0242ac1c0002\"] = document.querySelector(\"#id4-0-0\");\n",
              "//# sourceURL=js_7cfd4d23f0"
            ]
          },
          "metadata": {}
        },
        {
          "output_type": "display_data",
          "data": {
            "text/plain": [
              "<IPython.core.display.Javascript object>"
            ],
            "application/javascript": [
              "window[\"03f6263a-cf2e-11ec-aa94-0242ac1c0002\"] = google.colab.output.setActiveOutputArea(window[\"03f504c6-cf2e-11ec-aa94-0242ac1c0002\"]);\n",
              "//# sourceURL=js_8a1768c751"
            ]
          },
          "metadata": {}
        },
        {
          "output_type": "display_data",
          "data": {
            "text/plain": [
              "<IPython.core.display.Javascript object>"
            ],
            "application/javascript": [
              "window[\"040ebe02-cf2e-11ec-aa94-0242ac1c0002\"] = google.colab.output.setActiveOutputArea(window[\"03f49540-cf2e-11ec-aa94-0242ac1c0002\"]);\n",
              "//# sourceURL=js_c9c0581f83"
            ]
          },
          "metadata": {}
        },
        {
          "output_type": "display_data",
          "data": {
            "text/plain": [
              "<IPython.core.display.Javascript object>"
            ],
            "application/javascript": [
              "window[\"042180be-cf2e-11ec-aa94-0242ac1c0002\"] = google.colab.output.getActiveOutputArea();\n",
              "//# sourceURL=js_6f717728fc"
            ]
          },
          "metadata": {}
        },
        {
          "output_type": "display_data",
          "data": {
            "text/plain": [
              "<IPython.core.display.Javascript object>"
            ],
            "application/javascript": [
              "window[\"0421fe90-cf2e-11ec-aa94-0242ac1c0002\"] = document.querySelector(\"#id4-0-0\");\n",
              "//# sourceURL=js_40c4742241"
            ]
          },
          "metadata": {}
        },
        {
          "output_type": "display_data",
          "data": {
            "text/plain": [
              "<IPython.core.display.Javascript object>"
            ],
            "application/javascript": [
              "window[\"0422a7be-cf2e-11ec-aa94-0242ac1c0002\"] = google.colab.output.setActiveOutputArea(window[\"0421fe90-cf2e-11ec-aa94-0242ac1c0002\"]);\n",
              "//# sourceURL=js_afafb27440"
            ]
          },
          "metadata": {}
        },
        {
          "output_type": "display_data",
          "data": {
            "text/plain": [
              "<IPython.core.display.Javascript object>"
            ],
            "application/javascript": [
              "window[\"043c0268-cf2e-11ec-aa94-0242ac1c0002\"] = google.colab.output.setActiveOutputArea(window[\"042180be-cf2e-11ec-aa94-0242ac1c0002\"]);\n",
              "//# sourceURL=js_bb4cb06dfc"
            ]
          },
          "metadata": {}
        },
        {
          "output_type": "display_data",
          "data": {
            "text/plain": [
              "<IPython.core.display.Javascript object>"
            ],
            "application/javascript": [
              "window[\"044fa462-cf2e-11ec-aa94-0242ac1c0002\"] = google.colab.output.getActiveOutputArea();\n",
              "//# sourceURL=js_119818caed"
            ]
          },
          "metadata": {}
        },
        {
          "output_type": "display_data",
          "data": {
            "text/plain": [
              "<IPython.core.display.Javascript object>"
            ],
            "application/javascript": [
              "window[\"044ff71e-cf2e-11ec-aa94-0242ac1c0002\"] = document.querySelector(\"#id4-0-0\");\n",
              "//# sourceURL=js_d0c41d44b7"
            ]
          },
          "metadata": {}
        },
        {
          "output_type": "display_data",
          "data": {
            "text/plain": [
              "<IPython.core.display.Javascript object>"
            ],
            "application/javascript": [
              "window[\"04506438-cf2e-11ec-aa94-0242ac1c0002\"] = google.colab.output.setActiveOutputArea(window[\"044ff71e-cf2e-11ec-aa94-0242ac1c0002\"]);\n",
              "//# sourceURL=js_f55e359e6a"
            ]
          },
          "metadata": {}
        },
        {
          "output_type": "display_data",
          "data": {
            "text/plain": [
              "<IPython.core.display.Javascript object>"
            ],
            "application/javascript": [
              "window[\"046a82f0-cf2e-11ec-aa94-0242ac1c0002\"] = google.colab.output.setActiveOutputArea(window[\"044fa462-cf2e-11ec-aa94-0242ac1c0002\"]);\n",
              "//# sourceURL=js_7d52c32966"
            ]
          },
          "metadata": {}
        },
        {
          "output_type": "display_data",
          "data": {
            "text/plain": [
              "<IPython.core.display.Javascript object>"
            ],
            "application/javascript": [
              "window[\"047e0b2c-cf2e-11ec-aa94-0242ac1c0002\"] = google.colab.output.getActiveOutputArea();\n",
              "//# sourceURL=js_fa24cb3ae5"
            ]
          },
          "metadata": {}
        },
        {
          "output_type": "display_data",
          "data": {
            "text/plain": [
              "<IPython.core.display.Javascript object>"
            ],
            "application/javascript": [
              "window[\"047e63f6-cf2e-11ec-aa94-0242ac1c0002\"] = document.querySelector(\"#id4-0-0\");\n",
              "//# sourceURL=js_a1708e340d"
            ]
          },
          "metadata": {}
        },
        {
          "output_type": "display_data",
          "data": {
            "text/plain": [
              "<IPython.core.display.Javascript object>"
            ],
            "application/javascript": [
              "window[\"047ed7d2-cf2e-11ec-aa94-0242ac1c0002\"] = google.colab.output.setActiveOutputArea(window[\"047e63f6-cf2e-11ec-aa94-0242ac1c0002\"]);\n",
              "//# sourceURL=js_39e352ec02"
            ]
          },
          "metadata": {}
        },
        {
          "output_type": "display_data",
          "data": {
            "text/plain": [
              "<IPython.core.display.Javascript object>"
            ],
            "application/javascript": [
              "window[\"04a0219e-cf2e-11ec-aa94-0242ac1c0002\"] = google.colab.output.setActiveOutputArea(window[\"047e0b2c-cf2e-11ec-aa94-0242ac1c0002\"]);\n",
              "//# sourceURL=js_dd627a0fc2"
            ]
          },
          "metadata": {}
        },
        {
          "output_type": "display_data",
          "data": {
            "text/plain": [
              "<IPython.core.display.Javascript object>"
            ],
            "application/javascript": [
              "window[\"04b1a310-cf2e-11ec-aa94-0242ac1c0002\"] = google.colab.output.getActiveOutputArea();\n",
              "//# sourceURL=js_28271ed6e4"
            ]
          },
          "metadata": {}
        },
        {
          "output_type": "display_data",
          "data": {
            "text/plain": [
              "<IPython.core.display.Javascript object>"
            ],
            "application/javascript": [
              "window[\"04b1ec76-cf2e-11ec-aa94-0242ac1c0002\"] = document.querySelector(\"#id4-0-0\");\n",
              "//# sourceURL=js_d8af860e6d"
            ]
          },
          "metadata": {}
        },
        {
          "output_type": "display_data",
          "data": {
            "text/plain": [
              "<IPython.core.display.Javascript object>"
            ],
            "application/javascript": [
              "window[\"04b2328a-cf2e-11ec-aa94-0242ac1c0002\"] = google.colab.output.setActiveOutputArea(window[\"04b1ec76-cf2e-11ec-aa94-0242ac1c0002\"]);\n",
              "//# sourceURL=js_35156c2042"
            ]
          },
          "metadata": {}
        },
        {
          "output_type": "display_data",
          "data": {
            "text/plain": [
              "<IPython.core.display.Javascript object>"
            ],
            "application/javascript": [
              "window[\"04cbc7fe-cf2e-11ec-aa94-0242ac1c0002\"] = google.colab.output.setActiveOutputArea(window[\"04b1a310-cf2e-11ec-aa94-0242ac1c0002\"]);\n",
              "//# sourceURL=js_26e32383ec"
            ]
          },
          "metadata": {}
        },
        {
          "output_type": "display_data",
          "data": {
            "text/plain": [
              "<IPython.core.display.Javascript object>"
            ],
            "application/javascript": [
              "window[\"04dffb84-cf2e-11ec-aa94-0242ac1c0002\"] = google.colab.output.getActiveOutputArea();\n",
              "//# sourceURL=js_ef83ab08d4"
            ]
          },
          "metadata": {}
        },
        {
          "output_type": "display_data",
          "data": {
            "text/plain": [
              "<IPython.core.display.Javascript object>"
            ],
            "application/javascript": [
              "window[\"04e04f4e-cf2e-11ec-aa94-0242ac1c0002\"] = document.querySelector(\"#id4-0-0\");\n",
              "//# sourceURL=js_4c8dba05ef"
            ]
          },
          "metadata": {}
        },
        {
          "output_type": "display_data",
          "data": {
            "text/plain": [
              "<IPython.core.display.Javascript object>"
            ],
            "application/javascript": [
              "window[\"04e09eae-cf2e-11ec-aa94-0242ac1c0002\"] = google.colab.output.setActiveOutputArea(window[\"04e04f4e-cf2e-11ec-aa94-0242ac1c0002\"]);\n",
              "//# sourceURL=js_72a42846d9"
            ]
          },
          "metadata": {}
        },
        {
          "output_type": "display_data",
          "data": {
            "text/plain": [
              "<Figure size 432x288 with 1 Axes>"
            ],
            "image/png": "[encoded data removed]"
          },
          "metadata": {
            "needs_background": "light"
          }
        },
        {
          "output_type": "display_data",
          "data": {
            "text/plain": [
              "<IPython.core.display.Javascript object>"
            ],
            "application/javascript": [
              "window[\"04f8e86a-cf2e-11ec-aa94-0242ac1c0002\"] = google.colab.output.setActiveOutputArea(window[\"04dffb84-cf2e-11ec-aa94-0242ac1c0002\"]);\n",
              "//# sourceURL=js_b911447579"
            ]
          },
          "metadata": {}
        }
      ]
    },
    {
      "cell_type": "code",
      "source": [
        "plt.figure(figsize=(20,10))\n",
        "plt.xlabel('DoubleQ Learning Episode')\n",
        "plt.ylabel('epsilon')\n",
        "plt.plot(epsilons)"
      ],
      "metadata": {
        "colab": {
          "base_uri": "https://localhost:8080/",
          "height": 623
        },
        "id": "iFv9eZeUMUjd",
        "outputId": "a8b8430e-13ed-4017-f797-bf4c2a9c7107"
      },
      "execution_count": null,
      "outputs": [
        {
          "output_type": "execute_result",
          "data": {
            "text/plain": [
              "[<matplotlib.lines.Line2D at 0x7f059c8334d0>]"
            ]
          },
          "metadata": {},
          "execution_count": 9
        },
        {
          "output_type": "display_data",
          "data": {
            "text/plain": [
              "<Figure size 1440x720 with 1 Axes>"
            ],
            "image/png": "[encoded data removed]"
          },
          "metadata": {
            "needs_background": "light"
          }
        }
      ]
    },
    {
      "cell_type": "code",
      "source": [
        "plt.figure(figsize=(20,10))\n",
        "plt.xlabel('Double Q-Learning Deterministic Episode')\n",
        "plt.ylabel('Rewards')\n",
        "plt.plot(Qrewards)"
      ],
      "metadata": {
        "colab": {
          "base_uri": "https://localhost:8080/",
          "height": 623
        },
        "id": "g8hr7nG2MWdq",
        "outputId": "3d70434d-7aa7-42dd-e571-728d49443a24"
      },
      "execution_count": null,
      "outputs": [
        {
          "output_type": "execute_result",
          "data": {
            "text/plain": [
              "[<matplotlib.lines.Line2D at 0x7f059cb83a50>]"
            ]
          },
          "metadata": {},
          "execution_count": 10
        },
        {
          "output_type": "display_data",
          "data": {
            "text/plain": [
              "<Figure size 1440x720 with 1 Axes>"
            ],
            "image/png": "[encoded data removed]"
          },
          "metadata": {
            "needs_background": "light"
          }
        }
      ]
    },
    {
      "cell_type": "code",
      "source": [
        "env = GridEnvironment()\n",
        "obs = env.reset()\n",
        "done = False\n",
        "greedy = []\n",
        "output_grid = widgets.Grid(1, 1)\n",
        "with output_grid.output_to(0, 0):\n",
        "  env.render()\n",
        "\n",
        "while not done:\n",
        "  if np.random.uniform(0,1) < epsilon:\n",
        "    action = np.random.choice(env.action_space.n)\n",
        "  else:\n",
        "    action = np.argmax(Qtable[obs[0],obs[1]])\n",
        "  obs, reward, done, info = env.step(action)\n",
        "  with output_grid.output_to(0, 0):\n",
        "    output_grid.clear_cell()\n",
        "    env.render()\n",
        "  greedy.append(reward)\n",
        "  print(\"Reward:\",reward)\n",
        "  time.sleep(1)"
      ],
      "metadata": {
        "colab": {
          "base_uri": "https://localhost:8080/",
          "height": 533
        },
        "id": "cHiRxEk7MYAR",
        "outputId": "9621fd2d-c8d3-4cb2-85dd-a3c5fe6e8d02"
      },
      "execution_count": null,
      "outputs": [
        {
          "output_type": "display_data",
          "data": {
            "text/plain": [
              "<IPython.core.display.HTML object>"
            ],
            "text/html": [
              "<style>\n",
              "       table#id8, #id8 > tbody > tr > th, #id8 > tbody > tr > td {\n",
              "         border: 1px solid lightgray;\n",
              "         border-collapse:collapse;\n",
              "         \n",
              "        }</style>"
            ]
          },
          "metadata": {}
        },
        {
          "output_type": "display_data",
          "data": {
            "text/plain": [
              "<IPython.core.display.HTML object>"
            ],
            "text/html": [
              "<table id=id8><tr><td id=id8-0-0></td></tr></table>"
            ]
          },
          "metadata": {}
        },
        {
          "output_type": "display_data",
          "data": {
            "text/plain": [
              "<IPython.core.display.Javascript object>"
            ],
            "application/javascript": [
              "window[\"58af04cc-cf3c-11ec-aa94-0242ac1c0002\"] = google.colab.output.getActiveOutputArea();\n",
              "//# sourceURL=js_3213c975bd"
            ]
          },
          "metadata": {}
        },
        {
          "output_type": "display_data",
          "data": {
            "text/plain": [
              "<IPython.core.display.Javascript object>"
            ],
            "application/javascript": [
              "window[\"58af6af2-cf3c-11ec-aa94-0242ac1c0002\"] = document.querySelector(\"#id8-0-0\");\n",
              "//# sourceURL=js_effe429532"
            ]
          },
          "metadata": {}
        },
        {
          "output_type": "display_data",
          "data": {
            "text/plain": [
              "<IPython.core.display.Javascript object>"
            ],
            "application/javascript": [
              "window[\"58afd078-cf3c-11ec-aa94-0242ac1c0002\"] = google.colab.output.setActiveOutputArea(window[\"58af6af2-cf3c-11ec-aa94-0242ac1c0002\"]);\n",
              "//# sourceURL=js_acc5eaed86"
            ]
          },
          "metadata": {}
        },
        {
          "output_type": "display_data",
          "data": {
            "text/plain": [
              "<IPython.core.display.Javascript object>"
            ],
            "application/javascript": [
              "window[\"58e5db00-cf3c-11ec-aa94-0242ac1c0002\"] = google.colab.output.setActiveOutputArea(window[\"58af04cc-cf3c-11ec-aa94-0242ac1c0002\"]);\n",
              "//# sourceURL=js_5c3dd4140c"
            ]
          },
          "metadata": {}
        },
        {
          "output_type": "display_data",
          "data": {
            "text/plain": [
              "<IPython.core.display.Javascript object>"
            ],
            "application/javascript": [
              "window[\"58e83bac-cf3c-11ec-aa94-0242ac1c0002\"] = google.colab.output.getActiveOutputArea();\n",
              "//# sourceURL=js_e7db3dc9cf"
            ]
          },
          "metadata": {}
        },
        {
          "output_type": "display_data",
          "data": {
            "text/plain": [
              "<IPython.core.display.Javascript object>"
            ],
            "application/javascript": [
              "window[\"58e8aa60-cf3c-11ec-aa94-0242ac1c0002\"] = document.querySelector(\"#id8-0-0\");\n",
              "//# sourceURL=js_fd1246349a"
            ]
          },
          "metadata": {}
        },
        {
          "output_type": "display_data",
          "data": {
            "text/plain": [
              "<IPython.core.display.Javascript object>"
            ],
            "application/javascript": [
              "window[\"58e90f32-cf3c-11ec-aa94-0242ac1c0002\"] = google.colab.output.setActiveOutputArea(window[\"58e8aa60-cf3c-11ec-aa94-0242ac1c0002\"]);\n",
              "//# sourceURL=js_97f4ab8d24"
            ]
          },
          "metadata": {}
        },
        {
          "output_type": "display_data",
          "data": {
            "text/plain": [
              "<IPython.core.display.Javascript object>"
            ],
            "application/javascript": [
              "window[\"592cfc60-cf3c-11ec-aa94-0242ac1c0002\"] = google.colab.output.setActiveOutputArea(window[\"58e83bac-cf3c-11ec-aa94-0242ac1c0002\"]);\n",
              "//# sourceURL=js_5416eea47b"
            ]
          },
          "metadata": {}
        },
        {
          "output_type": "stream",
          "name": "stdout",
          "text": [
            "Reward: 0\n"
          ]
        },
        {
          "output_type": "display_data",
          "data": {
            "text/plain": [
              "<IPython.core.display.Javascript object>"
            ],
            "application/javascript": [
              "window[\"59c88c34-cf3c-11ec-aa94-0242ac1c0002\"] = google.colab.output.getActiveOutputArea();\n",
              "//# sourceURL=js_e4e2d72f84"
            ]
          },
          "metadata": {}
        },
        {
          "output_type": "display_data",
          "data": {
            "text/plain": [
              "<IPython.core.display.Javascript object>"
            ],
            "application/javascript": [
              "window[\"59c8ec7e-cf3c-11ec-aa94-0242ac1c0002\"] = document.querySelector(\"#id8-0-0\");\n",
              "//# sourceURL=js_bce3ebab54"
            ]
          },
          "metadata": {}
        },
        {
          "output_type": "display_data",
          "data": {
            "text/plain": [
              "<IPython.core.display.Javascript object>"
            ],
            "application/javascript": [
              "window[\"59c94c78-cf3c-11ec-aa94-0242ac1c0002\"] = google.colab.output.setActiveOutputArea(window[\"59c8ec7e-cf3c-11ec-aa94-0242ac1c0002\"]);\n",
              "//# sourceURL=js_3d1c236778"
            ]
          },
          "metadata": {}
        },
        {
          "output_type": "display_data",
          "data": {
            "text/plain": [
              "<IPython.core.display.Javascript object>"
            ],
            "application/javascript": [
              "window[\"59e11722-cf3c-11ec-aa94-0242ac1c0002\"] = google.colab.output.setActiveOutputArea(window[\"59c88c34-cf3c-11ec-aa94-0242ac1c0002\"]);\n",
              "//# sourceURL=js_bfef5d7979"
            ]
          },
          "metadata": {}
        },
        {
          "output_type": "stream",
          "name": "stdout",
          "text": [
            "Reward: 0\n"
          ]
        },
        {
          "output_type": "display_data",
          "data": {
            "text/plain": [
              "<IPython.core.display.Javascript object>"
            ],
            "application/javascript": [
              "window[\"5a7c04d0-cf3c-11ec-aa94-0242ac1c0002\"] = google.colab.output.getActiveOutputArea();\n",
              "//# sourceURL=js_56cfa35a9a"
            ]
          },
          "metadata": {}
        },
        {
          "output_type": "display_data",
          "data": {
            "text/plain": [
              "<IPython.core.display.Javascript object>"
            ],
            "application/javascript": [
              "window[\"5a7cc4ce-cf3c-11ec-aa94-0242ac1c0002\"] = document.querySelector(\"#id8-0-0\");\n",
              "//# sourceURL=js_2ec74215a8"
            ]
          },
          "metadata": {}
        },
        {
          "output_type": "display_data",
          "data": {
            "text/plain": [
              "<IPython.core.display.Javascript object>"
            ],
            "application/javascript": [
              "window[\"5a7d0e2a-cf3c-11ec-aa94-0242ac1c0002\"] = google.colab.output.setActiveOutputArea(window[\"5a7cc4ce-cf3c-11ec-aa94-0242ac1c0002\"]);\n",
              "//# sourceURL=js_2446822c89"
            ]
          },
          "metadata": {}
        },
        {
          "output_type": "display_data",
          "data": {
            "text/plain": [
              "<IPython.core.display.Javascript object>"
            ],
            "application/javascript": [
              "window[\"5a93769c-cf3c-11ec-aa94-0242ac1c0002\"] = google.colab.output.setActiveOutputArea(window[\"5a7c04d0-cf3c-11ec-aa94-0242ac1c0002\"]);\n",
              "//# sourceURL=js_2c949b6cd9"
            ]
          },
          "metadata": {}
        },
        {
          "output_type": "stream",
          "name": "stdout",
          "text": [
            "Reward: 15\n"
          ]
        },
        {
          "output_type": "display_data",
          "data": {
            "text/plain": [
              "<IPython.core.display.Javascript object>"
            ],
            "application/javascript": [
              "window[\"5b2e3d1c-cf3c-11ec-aa94-0242ac1c0002\"] = google.colab.output.getActiveOutputArea();\n",
              "//# sourceURL=js_87afd73073"
            ]
          },
          "metadata": {}
        },
        {
          "output_type": "display_data",
          "data": {
            "text/plain": [
              "<IPython.core.display.Javascript object>"
            ],
            "application/javascript": [
              "window[\"5b2ee550-cf3c-11ec-aa94-0242ac1c0002\"] = document.querySelector(\"#id8-0-0\");\n",
              "//# sourceURL=js_db314257d7"
            ]
          },
          "metadata": {}
        },
        {
          "output_type": "display_data",
          "data": {
            "text/plain": [
              "<IPython.core.display.Javascript object>"
            ],
            "application/javascript": [
              "window[\"5b2f45ae-cf3c-11ec-aa94-0242ac1c0002\"] = google.colab.output.setActiveOutputArea(window[\"5b2ee550-cf3c-11ec-aa94-0242ac1c0002\"]);\n",
              "//# sourceURL=js_d0f763fa83"
            ]
          },
          "metadata": {}
        },
        {
          "output_type": "display_data",
          "data": {
            "text/plain": [
              "<IPython.core.display.Javascript object>"
            ],
            "application/javascript": [
              "window[\"5b4505c4-cf3c-11ec-aa94-0242ac1c0002\"] = google.colab.output.setActiveOutputArea(window[\"5b2e3d1c-cf3c-11ec-aa94-0242ac1c0002\"]);\n",
              "//# sourceURL=js_17ba00208a"
            ]
          },
          "metadata": {}
        },
        {
          "output_type": "stream",
          "name": "stdout",
          "text": [
            "Reward: 0\n"
          ]
        },
        {
          "output_type": "display_data",
          "data": {
            "text/plain": [
              "<IPython.core.display.Javascript object>"
            ],
            "application/javascript": [
              "window[\"5be00d6c-cf3c-11ec-aa94-0242ac1c0002\"] = google.colab.output.getActiveOutputArea();\n",
              "//# sourceURL=js_1bdee5d977"
            ]
          },
          "metadata": {}
        },
        {
          "output_type": "display_data",
          "data": {
            "text/plain": [
              "<IPython.core.display.Javascript object>"
            ],
            "application/javascript": [
              "window[\"5be0812a-cf3c-11ec-aa94-0242ac1c0002\"] = document.querySelector(\"#id8-0-0\");\n",
              "//# sourceURL=js_9ea3cef940"
            ]
          },
          "metadata": {}
        },
        {
          "output_type": "display_data",
          "data": {
            "text/plain": [
              "<IPython.core.display.Javascript object>"
            ],
            "application/javascript": [
              "window[\"5be1259e-cf3c-11ec-aa94-0242ac1c0002\"] = google.colab.output.setActiveOutputArea(window[\"5be0812a-cf3c-11ec-aa94-0242ac1c0002\"]);\n",
              "//# sourceURL=js_486b71b762"
            ]
          },
          "metadata": {}
        },
        {
          "output_type": "display_data",
          "data": {
            "text/plain": [
              "<IPython.core.display.Javascript object>"
            ],
            "application/javascript": [
              "window[\"5bf8796a-cf3c-11ec-aa94-0242ac1c0002\"] = google.colab.output.setActiveOutputArea(window[\"5be00d6c-cf3c-11ec-aa94-0242ac1c0002\"]);\n",
              "//# sourceURL=js_d6187c1a71"
            ]
          },
          "metadata": {}
        },
        {
          "output_type": "stream",
          "name": "stdout",
          "text": [
            "Reward: 15\n"
          ]
        },
        {
          "output_type": "display_data",
          "data": {
            "text/plain": [
              "<IPython.core.display.Javascript object>"
            ],
            "application/javascript": [
              "window[\"5c92d88e-cf3c-11ec-aa94-0242ac1c0002\"] = google.colab.output.getActiveOutputArea();\n",
              "//# sourceURL=js_2d5d141771"
            ]
          },
          "metadata": {}
        },
        {
          "output_type": "display_data",
          "data": {
            "text/plain": [
              "<IPython.core.display.Javascript object>"
            ],
            "application/javascript": [
              "window[\"5c931e20-cf3c-11ec-aa94-0242ac1c0002\"] = document.querySelector(\"#id8-0-0\");\n",
              "//# sourceURL=js_92560963ef"
            ]
          },
          "metadata": {}
        },
        {
          "output_type": "display_data",
          "data": {
            "text/plain": [
              "<IPython.core.display.Javascript object>"
            ],
            "application/javascript": [
              "window[\"5c9364e8-cf3c-11ec-aa94-0242ac1c0002\"] = google.colab.output.setActiveOutputArea(window[\"5c931e20-cf3c-11ec-aa94-0242ac1c0002\"]);\n",
              "//# sourceURL=js_daefccf36d"
            ]
          },
          "metadata": {}
        },
        {
          "output_type": "display_data",
          "data": {
            "text/plain": [
              "<IPython.core.display.Javascript object>"
            ],
            "application/javascript": [
              "window[\"5caa4b0e-cf3c-11ec-aa94-0242ac1c0002\"] = google.colab.output.setActiveOutputArea(window[\"5c92d88e-cf3c-11ec-aa94-0242ac1c0002\"]);\n",
              "//# sourceURL=js_10c526fc00"
            ]
          },
          "metadata": {}
        },
        {
          "output_type": "stream",
          "name": "stdout",
          "text": [
            "Reward: 0\n"
          ]
        },
        {
          "output_type": "display_data",
          "data": {
            "text/plain": [
              "<IPython.core.display.Javascript object>"
            ],
            "application/javascript": [
              "window[\"5d451ac6-cf3c-11ec-aa94-0242ac1c0002\"] = google.colab.output.getActiveOutputArea();\n",
              "//# sourceURL=js_7ed99e8297"
            ]
          },
          "metadata": {}
        },
        {
          "output_type": "display_data",
          "data": {
            "text/plain": [
              "<IPython.core.display.Javascript object>"
            ],
            "application/javascript": [
              "window[\"5d45a2b6-cf3c-11ec-aa94-0242ac1c0002\"] = document.querySelector(\"#id8-0-0\");\n",
              "//# sourceURL=js_48867b97c4"
            ]
          },
          "metadata": {}
        },
        {
          "output_type": "display_data",
          "data": {
            "text/plain": [
              "<IPython.core.display.Javascript object>"
            ],
            "application/javascript": [
              "window[\"5d45f9be-cf3c-11ec-aa94-0242ac1c0002\"] = google.colab.output.setActiveOutputArea(window[\"5d45a2b6-cf3c-11ec-aa94-0242ac1c0002\"]);\n",
              "//# sourceURL=js_cc99128605"
            ]
          },
          "metadata": {}
        },
        {
          "output_type": "display_data",
          "data": {
            "text/plain": [
              "<IPython.core.display.Javascript object>"
            ],
            "application/javascript": [
              "window[\"5d5d78fa-cf3c-11ec-aa94-0242ac1c0002\"] = google.colab.output.setActiveOutputArea(window[\"5d451ac6-cf3c-11ec-aa94-0242ac1c0002\"]);\n",
              "//# sourceURL=js_c7be5f1a7f"
            ]
          },
          "metadata": {}
        },
        {
          "output_type": "stream",
          "name": "stdout",
          "text": [
            "Reward: 15\n"
          ]
        },
        {
          "output_type": "display_data",
          "data": {
            "text/plain": [
              "<IPython.core.display.Javascript object>"
            ],
            "application/javascript": [
              "window[\"5df85e06-cf3c-11ec-aa94-0242ac1c0002\"] = google.colab.output.getActiveOutputArea();\n",
              "//# sourceURL=js_9150eff043"
            ]
          },
          "metadata": {}
        },
        {
          "output_type": "display_data",
          "data": {
            "text/plain": [
              "<IPython.core.display.Javascript object>"
            ],
            "application/javascript": [
              "window[\"5df8e7b8-cf3c-11ec-aa94-0242ac1c0002\"] = document.querySelector(\"#id8-0-0\");\n",
              "//# sourceURL=js_ed073cd055"
            ]
          },
          "metadata": {}
        },
        {
          "output_type": "display_data",
          "data": {
            "text/plain": [
              "<IPython.core.display.Javascript object>"
            ],
            "application/javascript": [
              "window[\"5df94262-cf3c-11ec-aa94-0242ac1c0002\"] = google.colab.output.setActiveOutputArea(window[\"5df8e7b8-cf3c-11ec-aa94-0242ac1c0002\"]);\n",
              "//# sourceURL=js_3d4910d977"
            ]
          },
          "metadata": {}
        },
        {
          "output_type": "display_data",
          "data": {
            "text/plain": [
              "<IPython.core.display.Javascript object>"
            ],
            "application/javascript": [
              "window[\"5e10ee6c-cf3c-11ec-aa94-0242ac1c0002\"] = google.colab.output.setActiveOutputArea(window[\"5df85e06-cf3c-11ec-aa94-0242ac1c0002\"]);\n",
              "//# sourceURL=js_db275ed5e8"
            ]
          },
          "metadata": {}
        },
        {
          "output_type": "stream",
          "name": "stdout",
          "text": [
            "Reward: 0\n"
          ]
        },
        {
          "output_type": "display_data",
          "data": {
            "text/plain": [
              "<IPython.core.display.Javascript object>"
            ],
            "application/javascript": [
              "window[\"5eabc2f2-cf3c-11ec-aa94-0242ac1c0002\"] = google.colab.output.getActiveOutputArea();\n",
              "//# sourceURL=js_6e50528159"
            ]
          },
          "metadata": {}
        },
        {
          "output_type": "display_data",
          "data": {
            "text/plain": [
              "<IPython.core.display.Javascript object>"
            ],
            "application/javascript": [
              "window[\"5eabfd44-cf3c-11ec-aa94-0242ac1c0002\"] = document.querySelector(\"#id8-0-0\");\n",
              "//# sourceURL=js_185fcf4941"
            ]
          },
          "metadata": {}
        },
        {
          "output_type": "display_data",
          "data": {
            "text/plain": [
              "<IPython.core.display.Javascript object>"
            ],
            "application/javascript": [
              "window[\"5eac4f4c-cf3c-11ec-aa94-0242ac1c0002\"] = google.colab.output.setActiveOutputArea(window[\"5eabfd44-cf3c-11ec-aa94-0242ac1c0002\"]);\n",
              "//# sourceURL=js_06aea0073b"
            ]
          },
          "metadata": {}
        },
        {
          "output_type": "display_data",
          "data": {
            "text/plain": [
              "<IPython.core.display.Javascript object>"
            ],
            "application/javascript": [
              "window[\"5ec31060-cf3c-11ec-aa94-0242ac1c0002\"] = google.colab.output.setActiveOutputArea(window[\"5eabc2f2-cf3c-11ec-aa94-0242ac1c0002\"]);\n",
              "//# sourceURL=js_fd43d2b687"
            ]
          },
          "metadata": {}
        },
        {
          "output_type": "stream",
          "name": "stdout",
          "text": [
            "Reward: 15\n"
          ]
        },
        {
          "output_type": "display_data",
          "data": {
            "text/plain": [
              "<IPython.core.display.Javascript object>"
            ],
            "application/javascript": [
              "window[\"5f5deb58-cf3c-11ec-aa94-0242ac1c0002\"] = google.colab.output.getActiveOutputArea();\n",
              "//# sourceURL=js_0ae3a8e8cd"
            ]
          },
          "metadata": {}
        },
        {
          "output_type": "display_data",
          "data": {
            "text/plain": [
              "<IPython.core.display.Javascript object>"
            ],
            "application/javascript": [
              "window[\"5f5e5994-cf3c-11ec-aa94-0242ac1c0002\"] = document.querySelector(\"#id8-0-0\");\n",
              "//# sourceURL=js_2271697d4e"
            ]
          },
          "metadata": {}
        },
        {
          "output_type": "display_data",
          "data": {
            "text/plain": [
              "<IPython.core.display.Javascript object>"
            ],
            "application/javascript": [
              "window[\"5f5f08da-cf3c-11ec-aa94-0242ac1c0002\"] = google.colab.output.setActiveOutputArea(window[\"5f5e5994-cf3c-11ec-aa94-0242ac1c0002\"]);\n",
              "//# sourceURL=js_5600566b19"
            ]
          },
          "metadata": {}
        },
        {
          "output_type": "display_data",
          "data": {
            "text/plain": [
              "<IPython.core.display.Javascript object>"
            ],
            "application/javascript": [
              "window[\"5f75afea-cf3c-11ec-aa94-0242ac1c0002\"] = google.colab.output.setActiveOutputArea(window[\"5f5deb58-cf3c-11ec-aa94-0242ac1c0002\"]);\n",
              "//# sourceURL=js_583e539d75"
            ]
          },
          "metadata": {}
        },
        {
          "output_type": "stream",
          "name": "stdout",
          "text": [
            "Reward: 0\n"
          ]
        },
        {
          "output_type": "display_data",
          "data": {
            "text/plain": [
              "<IPython.core.display.Javascript object>"
            ],
            "application/javascript": [
              "window[\"6011fda0-cf3c-11ec-aa94-0242ac1c0002\"] = google.colab.output.getActiveOutputArea();\n",
              "//# sourceURL=js_f023ca6028"
            ]
          },
          "metadata": {}
        },
        {
          "output_type": "display_data",
          "data": {
            "text/plain": [
              "<IPython.core.display.Javascript object>"
            ],
            "application/javascript": [
              "window[\"60126678-cf3c-11ec-aa94-0242ac1c0002\"] = document.querySelector(\"#id8-0-0\");\n",
              "//# sourceURL=js_e22ad39c7d"
            ]
          },
          "metadata": {}
        },
        {
          "output_type": "display_data",
          "data": {
            "text/plain": [
              "<IPython.core.display.Javascript object>"
            ],
            "application/javascript": [
              "window[\"6012fdfe-cf3c-11ec-aa94-0242ac1c0002\"] = google.colab.output.setActiveOutputArea(window[\"60126678-cf3c-11ec-aa94-0242ac1c0002\"]);\n",
              "//# sourceURL=js_e9417c93f0"
            ]
          },
          "metadata": {}
        },
        {
          "output_type": "display_data",
          "data": {
            "text/plain": [
              "<IPython.core.display.Javascript object>"
            ],
            "application/javascript": [
              "window[\"602a725e-cf3c-11ec-aa94-0242ac1c0002\"] = google.colab.output.setActiveOutputArea(window[\"6011fda0-cf3c-11ec-aa94-0242ac1c0002\"]);\n",
              "//# sourceURL=js_6231910fb9"
            ]
          },
          "metadata": {}
        },
        {
          "output_type": "stream",
          "name": "stdout",
          "text": [
            "Reward: 15\n"
          ]
        },
        {
          "output_type": "display_data",
          "data": {
            "text/plain": [
              "<IPython.core.display.Javascript object>"
            ],
            "application/javascript": [
              "window[\"60c6811c-cf3c-11ec-aa94-0242ac1c0002\"] = google.colab.output.getActiveOutputArea();\n",
              "//# sourceURL=js_22fd1e3d2f"
            ]
          },
          "metadata": {}
        },
        {
          "output_type": "display_data",
          "data": {
            "text/plain": [
              "<IPython.core.display.Javascript object>"
            ],
            "application/javascript": [
              "window[\"60c6ed3c-cf3c-11ec-aa94-0242ac1c0002\"] = document.querySelector(\"#id8-0-0\");\n",
              "//# sourceURL=js_ddbb476006"
            ]
          },
          "metadata": {}
        },
        {
          "output_type": "display_data",
          "data": {
            "text/plain": [
              "<IPython.core.display.Javascript object>"
            ],
            "application/javascript": [
              "window[\"60c7a844-cf3c-11ec-aa94-0242ac1c0002\"] = google.colab.output.setActiveOutputArea(window[\"60c6ed3c-cf3c-11ec-aa94-0242ac1c0002\"]);\n",
              "//# sourceURL=js_75a2b68131"
            ]
          },
          "metadata": {}
        },
        {
          "output_type": "display_data",
          "data": {
            "text/plain": [
              "<IPython.core.display.Javascript object>"
            ],
            "application/javascript": [
              "window[\"60e76a26-cf3c-11ec-aa94-0242ac1c0002\"] = google.colab.output.setActiveOutputArea(window[\"60c6811c-cf3c-11ec-aa94-0242ac1c0002\"]);\n",
              "//# sourceURL=js_1068af465e"
            ]
          },
          "metadata": {}
        },
        {
          "output_type": "stream",
          "name": "stdout",
          "text": [
            "Reward: 0\n"
          ]
        },
        {
          "output_type": "display_data",
          "data": {
            "text/plain": [
              "<IPython.core.display.Javascript object>"
            ],
            "application/javascript": [
              "window[\"61821490-cf3c-11ec-aa94-0242ac1c0002\"] = google.colab.output.getActiveOutputArea();\n",
              "//# sourceURL=js_4ae849b505"
            ]
          },
          "metadata": {}
        },
        {
          "output_type": "display_data",
          "data": {
            "text/plain": [
              "<IPython.core.display.Javascript object>"
            ],
            "application/javascript": [
              "window[\"61827dea-cf3c-11ec-aa94-0242ac1c0002\"] = document.querySelector(\"#id8-0-0\");\n",
              "//# sourceURL=js_27f7403b7b"
            ]
          },
          "metadata": {}
        },
        {
          "output_type": "display_data",
          "data": {
            "text/plain": [
              "<IPython.core.display.Javascript object>"
            ],
            "application/javascript": [
              "window[\"6182e622-cf3c-11ec-aa94-0242ac1c0002\"] = google.colab.output.setActiveOutputArea(window[\"61827dea-cf3c-11ec-aa94-0242ac1c0002\"]);\n",
              "//# sourceURL=js_c18593d22d"
            ]
          },
          "metadata": {}
        },
        {
          "output_type": "display_data",
          "data": {
            "text/plain": [
              "<IPython.core.display.Javascript object>"
            ],
            "application/javascript": [
              "window[\"6198e01c-cf3c-11ec-aa94-0242ac1c0002\"] = google.colab.output.setActiveOutputArea(window[\"61821490-cf3c-11ec-aa94-0242ac1c0002\"]);\n",
              "//# sourceURL=js_19930dd431"
            ]
          },
          "metadata": {}
        },
        {
          "output_type": "stream",
          "name": "stdout",
          "text": [
            "Reward: 15\n"
          ]
        },
        {
          "output_type": "display_data",
          "data": {
            "text/plain": [
              "<IPython.core.display.Javascript object>"
            ],
            "application/javascript": [
              "window[\"6233bbc8-cf3c-11ec-aa94-0242ac1c0002\"] = google.colab.output.getActiveOutputArea();\n",
              "//# sourceURL=js_b8e61522e7"
            ]
          },
          "metadata": {}
        },
        {
          "output_type": "display_data",
          "data": {
            "text/plain": [
              "<IPython.core.display.Javascript object>"
            ],
            "application/javascript": [
              "window[\"623426da-cf3c-11ec-aa94-0242ac1c0002\"] = document.querySelector(\"#id8-0-0\");\n",
              "//# sourceURL=js_06f1c1410e"
            ]
          },
          "metadata": {}
        },
        {
          "output_type": "display_data",
          "data": {
            "text/plain": [
              "<IPython.core.display.Javascript object>"
            ],
            "application/javascript": [
              "window[\"6234d490-cf3c-11ec-aa94-0242ac1c0002\"] = google.colab.output.setActiveOutputArea(window[\"623426da-cf3c-11ec-aa94-0242ac1c0002\"]);\n",
              "//# sourceURL=js_caab43c095"
            ]
          },
          "metadata": {}
        },
        {
          "output_type": "display_data",
          "data": {
            "text/plain": [
              "<IPython.core.display.Javascript object>"
            ],
            "application/javascript": [
              "window[\"624fb3d2-cf3c-11ec-aa94-0242ac1c0002\"] = google.colab.output.setActiveOutputArea(window[\"6233bbc8-cf3c-11ec-aa94-0242ac1c0002\"]);\n",
              "//# sourceURL=js_9a12f9779b"
            ]
          },
          "metadata": {}
        },
        {
          "output_type": "stream",
          "name": "stdout",
          "text": [
            "Reward: 0\n"
          ]
        },
        {
          "output_type": "display_data",
          "data": {
            "text/plain": [
              "<IPython.core.display.Javascript object>"
            ],
            "application/javascript": [
              "window[\"62ebbfd4-cf3c-11ec-aa94-0242ac1c0002\"] = google.colab.output.getActiveOutputArea();\n",
              "//# sourceURL=js_31d6ba8d7b"
            ]
          },
          "metadata": {}
        },
        {
          "output_type": "display_data",
          "data": {
            "text/plain": [
              "<IPython.core.display.Javascript object>"
            ],
            "application/javascript": [
              "window[\"62ec37a2-cf3c-11ec-aa94-0242ac1c0002\"] = document.querySelector(\"#id8-0-0\");\n",
              "//# sourceURL=js_1d6a7d35d1"
            ]
          },
          "metadata": {}
        },
        {
          "output_type": "display_data",
          "data": {
            "text/plain": [
              "<IPython.core.display.Javascript object>"
            ],
            "application/javascript": [
              "window[\"62ecfaf2-cf3c-11ec-aa94-0242ac1c0002\"] = google.colab.output.setActiveOutputArea(window[\"62ec37a2-cf3c-11ec-aa94-0242ac1c0002\"]);\n",
              "//# sourceURL=js_f8a26aaaf7"
            ]
          },
          "metadata": {}
        },
        {
          "output_type": "display_data",
          "data": {
            "text/plain": [
              "<Figure size 432x288 with 1 Axes>"
            ],
            "image/png": "[encoded data removed]"
          },
          "metadata": {
            "needs_background": "light"
          }
        },
        {
          "output_type": "display_data",
          "data": {
            "text/plain": [
              "<IPython.core.display.Javascript object>"
            ],
            "application/javascript": [
              "window[\"6304405e-cf3c-11ec-aa94-0242ac1c0002\"] = google.colab.output.setActiveOutputArea(window[\"62ebbfd4-cf3c-11ec-aa94-0242ac1c0002\"]);\n",
              "//# sourceURL=js_b52007699b"
            ]
          },
          "metadata": {}
        },
        {
          "output_type": "stream",
          "name": "stdout",
          "text": [
            "Reward: 15\n"
          ]
        }
      ]
    },
    {
      "cell_type": "code",
      "source": [
        "plt.figure(figsize=(20,10))\n",
        "plt.xlabel('Double Q-Learning Greedy Episode')\n",
        "plt.ylabel('Rewards')\n",
        "plt.plot(greedy)"
      ],
      "metadata": {
        "colab": {
          "base_uri": "https://localhost:8080/",
          "height": 623
        },
        "id": "jF9VrwwsMZ_y",
        "outputId": "3d0c7cf7-fd8d-400d-ce21-a2069f3f9399"
      },
      "execution_count": null,
      "outputs": [
        {
          "output_type": "execute_result",
          "data": {
            "text/plain": [
              "[<matplotlib.lines.Line2D at 0x7f059c853710>]"
            ]
          },
          "metadata": {},
          "execution_count": 13
        },
        {
          "output_type": "display_data",
          "data": {
            "text/plain": [
              "<Figure size 1440x720 with 1 Axes>"
            ],
            "image/png": "[encoded data removed]"
          },
          "metadata": {
            "needs_background": "light"
          }
        }
      ]
    },
    {
      "cell_type": "code",
      "source": [],
      "metadata": {
        "id": "ue92sWSLj_BX"
      },
      "execution_count": null,
      "outputs": []
    }
  ]
}